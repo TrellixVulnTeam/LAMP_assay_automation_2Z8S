{
  "nbformat": 4,
  "nbformat_minor": 0,
  "metadata": {
    "colab": {
      "name": "readDNGsavePNG.ipynb",
      "provenance": [],
      "authorship_tag": "ABX9TyO6U+eP0FElJpRrY/YooUDr",
      "include_colab_link": true
    },
    "kernelspec": {
      "name": "python3",
      "display_name": "Python 3"
    },
    "language_info": {
      "name": "python"
    }
  },
  "cells": [
    {
      "cell_type": "markdown",
      "metadata": {
        "id": "view-in-github",
        "colab_type": "text"
      },
      "source": [
        "<a href=\"https://colab.research.google.com/github/ncsu-landscape-dynamics/LAMP_assay_automation/blob/main/readDNGsavePNG.ipynb\" target=\"_parent\"><img src=\"https://colab.research.google.com/assets/colab-badge.svg\" alt=\"Open In Colab\"/></a>"
      ]
    },
    {
      "cell_type": "code",
      "metadata": {
        "id": "Riua8jQHxii5",
        "colab": {
          "base_uri": "https://localhost:8080/"
        },
        "outputId": "bed34545-4775-4a65-fbbd-068e45d6ef11"
      },
      "source": [
        "# Prelimns\n",
        "import matplotlib.pyplot as plt\n",
        "import numpy as np\n",
        "import os\n",
        "from PIL import Image\n",
        "import pandas as pd\n",
        "\n",
        "!pip install rawpy # <- Google colab format\n",
        "import rawpy\n",
        "#\n",
        "#\n",
        "# Not necessary currently. \n",
        "#import cv2\n",
        "#import imageio\n",
        "#import scipy.misc\n",
        "#import skimage.filters\n",
        "#import skimage.metrics"
      ],
      "execution_count": 5,
      "outputs": [
        {
          "output_type": "stream",
          "name": "stdout",
          "text": [
            "Requirement already satisfied: rawpy in /usr/local/lib/python3.7/dist-packages (0.16.0)\n",
            "Requirement already satisfied: numpy in /usr/local/lib/python3.7/dist-packages (from rawpy) (1.19.5)\n"
          ]
        }
      ]
    },
    {
      "cell_type": "code",
      "metadata": {
        "colab": {
          "base_uri": "https://localhost:8080/"
        },
        "id": "B2L8vCQJxwGu",
        "outputId": "4f90f42b-51bf-491c-be09-c747688feeea"
      },
      "source": [
        "# Likely not needed\n",
        "from google.colab import drive\n",
        "drive.mount('/content/drive', force_remount=True)"
      ],
      "execution_count": 6,
      "outputs": [
        {
          "output_type": "stream",
          "name": "stdout",
          "text": [
            "Mounted at /content/drive\n"
          ]
        }
      ]
    },
    {
      "cell_type": "code",
      "metadata": {
        "id": "mgZH4QqLVdrm"
      },
      "source": [
        "# This may be removed. Considering whether or not to read raw image and convert\n",
        "# over to tensor in this one script. Used in last block.\n",
        "import torch\n",
        "import torch.utils.data\n",
        "import torchvision\n",
        "from torchvision.models.detection.faster_rcnn import FastRCNNPredictor\n",
        "from torchvision.models.detection.mask_rcnn import MaskRCNNPredictor\n",
        "from torchvision.io import read_image\n",
        "from torchvision.transforms.functional import convert_image_dtype\n",
        "import torchvision.transforms.functional as F\n",
        "\n",
        "device = torch.device('cuda') if torch.cuda.is_available() else torch.device('cpu')"
      ],
      "execution_count": null,
      "outputs": []
    },
    {
      "cell_type": "code",
      "metadata": {
        "id": "6RLlIp5bzMcW",
        "colab": {
          "base_uri": "https://localhost:8080/"
        },
        "outputId": "1058fe8b-c116-444d-fdbd-f1c18750c19f"
      },
      "source": [
        "# Where are the new RAW images that will need to be changed before modeling?\n",
        "img_dir = input(\"Please provide a directory path that has the images awaiting\\\n",
        " analysis.\")\n",
        "\n",
        "try:\n",
        "    os.path.exists(img_dir) == False\n",
        "except:\n",
        "    sys.exit(\"The path provided does not exist. Do you need to provide a\\\n",
        "    leading '/' (on Windows, you need to provide 'C:\\' instead).\")\n",
        "\n",
        "os.chdir(img_dir)\n",
        "print(\"The directory provided was {}.\".format(os.getcwd()))"
      ],
      "execution_count": 8,
      "outputs": [
        {
          "output_type": "stream",
          "name": "stdout",
          "text": [
            "Please provide a directory path that has the images awaiting analysis./content/drive/MyDrive/APHIS Farm Bill (2020Milestones)/Protocols/For John/images/New set for John/collection/December\n",
            "The directory provided was /content/drive/.shortcut-targets-by-id/1-5I4VO21o4cSUAm5QhufEXgNX_wbZVfg/APHIS Farm Bill (2020Milestones)/Protocols/For John/images/New set for John/collection/December.\n"
          ]
        }
      ]
    },
    {
      "cell_type": "code",
      "source": [
        "#/content/drive/MyDrive/APHIS Farm Bill (2020Milestones)/Protocols/For John/images/New set for John/collection/December"
      ],
      "metadata": {
        "id": "6wGtE6jv_3Og"
      },
      "execution_count": null,
      "outputs": []
    },
    {
      "cell_type": "code",
      "metadata": {
        "id": "BVSXqcVC5K7Y"
      },
      "source": [
        "# Names and locations of images for reading.\n",
        "rawimgs = sorted(os.listdir())\n",
        "rawimgs_dir = list()\n",
        "\n",
        "#for i in range(len(rawimgs)):\n",
        "#    rawimgs_dir.append(os.path.join(\"/content/drive/MyDrive/APHIS Farm Bill (2020Milestones)/Protocols/For John/images/New set for John/input\" , rawimgs[i]))"
      ],
      "execution_count": 24,
      "outputs": []
    },
    {
      "cell_type": "code",
      "source": [
        "rawimgs"
      ],
      "metadata": {
        "id": "UBCr6SR7AZEI",
        "outputId": "af8ad868-63bb-4e44-b24a-8c9433d00f5a",
        "colab": {
          "base_uri": "https://localhost:8080/"
        }
      },
      "execution_count": 11,
      "outputs": [
        {
          "output_type": "execute_result",
          "data": {
            "text/plain": [
              "['Copy of 20211207_T1(1).jpg',\n",
              " 'Copy of 20211207_T1(2).jpg',\n",
              " 'Copy of 20211207_T1(3).jpg',\n",
              " 'Copy of 20211207_T1(4).jpg',\n",
              " 'Copy of 20211207_T1(5).jpg',\n",
              " 'Copy of 20211207_T2(1).jpg',\n",
              " 'Copy of 20211207_T2(2).jpg',\n",
              " 'Copy of 20211207_T2(3).jpg',\n",
              " 'Copy of 20211207_T2(4).jpg',\n",
              " 'Copy of 20211207_T2(5).jpg',\n",
              " 'Copy of 20211207_T3(1).jpg',\n",
              " 'Copy of 20211207_T3(2).jpg',\n",
              " 'Copy of 20211207_T3(3).jpg',\n",
              " 'Copy of 20211207_T3(4).jpg',\n",
              " 'Copy of 20211207_T3(5).jpg',\n",
              " 'Copy of 20211207_T3(6).jpg',\n",
              " 'Copy of 20211207_T3(7).jpg',\n",
              " 'Copy of 20211207_T3(8).jpg',\n",
              " 'set1_00m.png']"
            ]
          },
          "metadata": {},
          "execution_count": 11
        }
      ]
    },
    {
      "cell_type": "code",
      "source": [
        "new_names = [s.strip('Copy of 20211207_') for s in rawimgs]"
      ],
      "metadata": {
        "id": "zCD9peK7BHNQ"
      },
      "execution_count": 17,
      "outputs": []
    },
    {
      "cell_type": "code",
      "source": [
        "#new_names = new_names[0:18]\n",
        "new_names"
      ],
      "metadata": {
        "id": "feeK38UzBttU",
        "outputId": "6fbdce11-ad95-45c3-e9b3-c9d5fe53ae70",
        "colab": {
          "base_uri": "https://localhost:8080/"
        }
      },
      "execution_count": 39,
      "outputs": [
        {
          "output_type": "execute_result",
          "data": {
            "text/plain": [
              "['T1(1).png',\n",
              " 'T1(2).png',\n",
              " 'T1(3).png',\n",
              " 'T1(4).png',\n",
              " 'T1(5).png',\n",
              " 'T2(1).png',\n",
              " 'T2(2).png',\n",
              " 'T2(3).png',\n",
              " 'T2(4).png',\n",
              " 'T2(5).png',\n",
              " 'T3(1).png',\n",
              " 'T3(2).png',\n",
              " 'T3(3).png',\n",
              " 'T3(4).png',\n",
              " 'T3(5).png',\n",
              " 'T3(6).png',\n",
              " 'T3(7).png',\n",
              " 'T3(8).png']"
            ]
          },
          "metadata": {},
          "execution_count": 39
        }
      ]
    },
    {
      "cell_type": "code",
      "source": [
        "new_names = [s.replace(\"jpg\",\"png\") for s in new_names]"
      ],
      "metadata": {
        "id": "3Efnp8FzLA5g"
      },
      "execution_count": 38,
      "outputs": []
    },
    {
      "cell_type": "code",
      "metadata": {
        "id": "FHZDjRTMAUIg"
      },
      "source": [
        "# Names and locations of images for reading.\n",
        "\n",
        "for i in range(len(new_names)):\n",
        "    rawimgs_dir.append(os.path.join(\"/content/drive/MyDrive/APHIS Farm Bill (2020Milestones)/Protocols/For John/images/New set for John/collection/December\" , rawimgs[i]))"
      ],
      "execution_count": 25,
      "outputs": []
    },
    {
      "cell_type": "code",
      "source": [
        "# Searching for a file type ending. Right now, this is .jpg. Should change to __?\n",
        "inlist = list()\n",
        "\n",
        "for i in rawimgs_dir:\n",
        "    if i.find(\".jpg\"):\n",
        "        inlist.append(i)\n",
        "\n",
        "inlist"
      ],
      "metadata": {
        "id": "hh4AFZ_HFZYI",
        "outputId": "4fffdd65-5f14-4545-9fb9-7c313b9f2abb",
        "colab": {
          "base_uri": "https://localhost:8080/"
        }
      },
      "execution_count": 27,
      "outputs": [
        {
          "output_type": "execute_result",
          "data": {
            "text/plain": [
              "['/content/drive/MyDrive/APHIS Farm Bill (2020Milestones)/Protocols/For John/images/New set for John/collection/December/Copy of 20211207_T1(1).jpg',\n",
              " '/content/drive/MyDrive/APHIS Farm Bill (2020Milestones)/Protocols/For John/images/New set for John/collection/December/Copy of 20211207_T1(2).jpg',\n",
              " '/content/drive/MyDrive/APHIS Farm Bill (2020Milestones)/Protocols/For John/images/New set for John/collection/December/Copy of 20211207_T1(3).jpg',\n",
              " '/content/drive/MyDrive/APHIS Farm Bill (2020Milestones)/Protocols/For John/images/New set for John/collection/December/Copy of 20211207_T1(4).jpg',\n",
              " '/content/drive/MyDrive/APHIS Farm Bill (2020Milestones)/Protocols/For John/images/New set for John/collection/December/Copy of 20211207_T1(5).jpg',\n",
              " '/content/drive/MyDrive/APHIS Farm Bill (2020Milestones)/Protocols/For John/images/New set for John/collection/December/Copy of 20211207_T2(1).jpg',\n",
              " '/content/drive/MyDrive/APHIS Farm Bill (2020Milestones)/Protocols/For John/images/New set for John/collection/December/Copy of 20211207_T2(2).jpg',\n",
              " '/content/drive/MyDrive/APHIS Farm Bill (2020Milestones)/Protocols/For John/images/New set for John/collection/December/Copy of 20211207_T2(3).jpg',\n",
              " '/content/drive/MyDrive/APHIS Farm Bill (2020Milestones)/Protocols/For John/images/New set for John/collection/December/Copy of 20211207_T2(4).jpg',\n",
              " '/content/drive/MyDrive/APHIS Farm Bill (2020Milestones)/Protocols/For John/images/New set for John/collection/December/Copy of 20211207_T2(5).jpg',\n",
              " '/content/drive/MyDrive/APHIS Farm Bill (2020Milestones)/Protocols/For John/images/New set for John/collection/December/Copy of 20211207_T3(1).jpg',\n",
              " '/content/drive/MyDrive/APHIS Farm Bill (2020Milestones)/Protocols/For John/images/New set for John/collection/December/Copy of 20211207_T3(2).jpg',\n",
              " '/content/drive/MyDrive/APHIS Farm Bill (2020Milestones)/Protocols/For John/images/New set for John/collection/December/Copy of 20211207_T3(3).jpg',\n",
              " '/content/drive/MyDrive/APHIS Farm Bill (2020Milestones)/Protocols/For John/images/New set for John/collection/December/Copy of 20211207_T3(4).jpg',\n",
              " '/content/drive/MyDrive/APHIS Farm Bill (2020Milestones)/Protocols/For John/images/New set for John/collection/December/Copy of 20211207_T3(5).jpg',\n",
              " '/content/drive/MyDrive/APHIS Farm Bill (2020Milestones)/Protocols/For John/images/New set for John/collection/December/Copy of 20211207_T3(6).jpg',\n",
              " '/content/drive/MyDrive/APHIS Farm Bill (2020Milestones)/Protocols/For John/images/New set for John/collection/December/Copy of 20211207_T3(7).jpg',\n",
              " '/content/drive/MyDrive/APHIS Farm Bill (2020Milestones)/Protocols/For John/images/New set for John/collection/December/Copy of 20211207_T3(8).jpg']"
            ]
          },
          "metadata": {},
          "execution_count": 27
        }
      ]
    },
    {
      "cell_type": "code",
      "source": [
        "# Don't need this. Renames the files in the directory. Just give new names after.\n",
        "#im_renam = list()\n",
        "#\n",
        "#for i in range(len(new_names)):\n",
        "#    im_renam.append(os.path.join(\"/content/drive/MyDrive/APHIS Farm Bill (2020Milestones)/Protocols/For John/images/New set for John/collection/December\" , new_names[i]))\n",
        "#\n",
        "#im_renam"
      ],
      "metadata": {
        "id": "YBw0CQRfDJNk"
      },
      "execution_count": null,
      "outputs": []
    },
    {
      "cell_type": "code",
      "source": [
        "# Don't need this. Renames the files in the directory. Just give new names after.\n",
        "#os.rename(rawimgs_dir, im_renam)"
      ],
      "metadata": {
        "id": "T1pX4quEDkXE"
      },
      "execution_count": null,
      "outputs": []
    },
    {
      "cell_type": "code",
      "metadata": {
        "colab": {
          "base_uri": "https://localhost:8080/"
        },
        "id": "92xfUAssUq9t",
        "outputId": "433ec853-363e-444f-bcbd-118626f94149"
      },
      "source": [
        "# Read RAW images, postprocess, and check orientation.\n",
        "raw_in_list = list()\n",
        "post_im_list = list()\n",
        "\n",
        "for r in range(len(rawimgs_dir)):\n",
        "    raw_in_list.append(rawpy.imread(rawimgs_dir[r]))\n",
        "    post_im_list.append(raw_in_list[r].postprocess(use_camera_wb=True))\n",
        "    if post_im_list[r].shape[0] < post_im_list[r].shape[1]:\n",
        "        post_im_list[r] = np.rot90(post_im_list[r], 3)\n",
        "        print(\"Note: horizontal images detected. Inspect orientation.\")"
      ],
      "execution_count": null,
      "outputs": [
        {
          "output_type": "stream",
          "text": [
            "Note: horizontal images detected. Inspect orientation.\n",
            "Note: horizontal images detected. Inspect orientation.\n",
            "Note: horizontal images detected. Inspect orientation.\n",
            "Note: horizontal images detected. Inspect orientation.\n",
            "Note: horizontal images detected. Inspect orientation.\n",
            "Note: horizontal images detected. Inspect orientation.\n",
            "Note: horizontal images detected. Inspect orientation.\n",
            "Note: horizontal images detected. Inspect orientation.\n",
            "Note: horizontal images detected. Inspect orientation.\n",
            "Note: horizontal images detected. Inspect orientation.\n",
            "Note: horizontal images detected. Inspect orientation.\n",
            "Note: horizontal images detected. Inspect orientation.\n"
          ],
          "name": "stdout"
        }
      ]
    },
    {
      "cell_type": "code",
      "source": [
        "# Read the jpg.\n",
        "j_list = list()\n",
        "\n",
        "for i in inlist:\n",
        "    j_list.append(Image.open(i))\n",
        "\n",
        "j_list"
      ],
      "metadata": {
        "id": "ev0zFH1vGaDM",
        "outputId": "960ec8bd-5d42-4d80-a013-253255f53a46",
        "colab": {
          "base_uri": "https://localhost:8080/"
        }
      },
      "execution_count": 32,
      "outputs": [
        {
          "output_type": "execute_result",
          "data": {
            "text/plain": [
              "[<PIL.JpegImagePlugin.JpegImageFile image mode=RGB size=5312x2988 at 0x7F669FDC6B90>,\n",
              " <PIL.JpegImagePlugin.JpegImageFile image mode=RGB size=5312x2988 at 0x7F66A018ECD0>,\n",
              " <PIL.JpegImagePlugin.JpegImageFile image mode=RGB size=5312x2988 at 0x7F669FE10A50>,\n",
              " <PIL.JpegImagePlugin.JpegImageFile image mode=RGB size=5312x2988 at 0x7F66A0357890>,\n",
              " <PIL.JpegImagePlugin.JpegImageFile image mode=RGB size=5312x2988 at 0x7F66A00CE850>,\n",
              " <PIL.JpegImagePlugin.JpegImageFile image mode=RGB size=5312x2988 at 0x7F66A94CCA90>,\n",
              " <PIL.JpegImagePlugin.JpegImageFile image mode=RGB size=5312x2988 at 0x7F66A0148F50>,\n",
              " <PIL.JpegImagePlugin.JpegImageFile image mode=RGB size=5312x2988 at 0x7F669FDDC590>,\n",
              " <PIL.JpegImagePlugin.JpegImageFile image mode=RGB size=5312x2988 at 0x7F669FDA96D0>,\n",
              " <PIL.JpegImagePlugin.JpegImageFile image mode=RGB size=5312x2988 at 0x7F669FE17050>,\n",
              " <PIL.JpegImagePlugin.JpegImageFile image mode=RGB size=5312x2988 at 0x7F669FDD7C90>,\n",
              " <PIL.JpegImagePlugin.JpegImageFile image mode=RGB size=5312x2988 at 0x7F669FD78E90>,\n",
              " <PIL.JpegImagePlugin.JpegImageFile image mode=RGB size=5312x2988 at 0x7F669FD91150>,\n",
              " <PIL.JpegImagePlugin.JpegImageFile image mode=RGB size=5312x2988 at 0x7F669FD93E10>,\n",
              " <PIL.JpegImagePlugin.JpegImageFile image mode=RGB size=5312x2988 at 0x7F66A0192A50>,\n",
              " <PIL.JpegImagePlugin.JpegImageFile image mode=RGB size=5312x2988 at 0x7F669FD966D0>,\n",
              " <PIL.JpegImagePlugin.JpegImageFile image mode=RGB size=5312x2988 at 0x7F669FD87190>,\n",
              " <PIL.JpegImagePlugin.JpegImageFile image mode=RGB size=5312x2988 at 0x7F669FDA9710>]"
            ]
          },
          "metadata": {},
          "execution_count": 32
        }
      ]
    },
    {
      "cell_type": "code",
      "metadata": {
        "id": "sQkN15MhzybU",
        "colab": {
          "base_uri": "https://localhost:8080/"
        },
        "outputId": "0f426319-6fa5-44be-9a33-76fc452d3fa5"
      },
      "source": [
        "# Save images as PNG full-size. \n",
        "dir_save = input(\"Please provide a directory path for saving images.\")\n",
        "\n",
        "try:\n",
        "    os.path.exists(dir_save) == False\n",
        "except:\n",
        "    sys.exit(\"The path provided does not exist. Do you need to provide a\\\n",
        "    leading '/' (on Windows, you need to provide 'C:\\' instead).\")\n",
        "\n",
        "newnamelis = list()\n",
        "save_names_path = list()\n",
        "\n",
        "for i in range(len(rawimgs)):\n",
        "    newnamelis.append(rawimgs[i].replace(\"dng\",\"png\"))\n",
        "    save_names_path.append(os.path.join(\"/content/drive/MyDrive/APHIS Farm Bill (2020Milestones)/Protocols/For John/images/New set for John/\", dir_save, newnamelis[i]))\n",
        "    post_im_list[i] = Image.fromarray(post_im_list[i])\n",
        "    post_im_list[i].save(save_names_path[i])"
      ],
      "execution_count": null,
      "outputs": [
        {
          "output_type": "stream",
          "text": [
            "Please provide a directory path that has the images awaiting analysis./content/drive/MyDrive/APHIS Farm Bill (2020Milestones)/Protocols/For John/images/New set for John/test_save\n"
          ],
          "name": "stdout"
        }
      ]
    },
    {
      "cell_type": "code",
      "metadata": {
        "id": "8eVuqJ8RhyIq"
      },
      "source": [
        "# The if statement here is dodgy. An array or tensor has shape AND size. Only\n",
        "# the PIL Images have only shape. Tried using type(img), but that's only for\n",
        "# base types, like \"str\" or \"int\".\n",
        "def centercrop(img, newsize):\n",
        "    if hasattr(img, \"shape\"):\n",
        "        height, width = img.shape[:2]   # Get dimensions\n",
        "        img = Image.fromarray(img)\n",
        "        print(\"img is tensor or np.array. widt = {}, height = {}\".format(width,height))\n",
        "    else:\n",
        "        width, height = img.size   # Get dimensions\n",
        "        print(\"img is PIL. widt = {}, height = {}\".format(width,height))\n",
        "    left = int((width - int(newsize))/2)\n",
        "    top = int((height - int(newsize))/2)\n",
        "    bottom = int(height - top)\n",
        "    right = int(width - left)\n",
        "    # Crop the center of the image\n",
        "    ccrp = img.crop((left, top, right, bottom))\n",
        "    return ccrp "
      ],
      "execution_count": 33,
      "outputs": []
    },
    {
      "cell_type": "code",
      "metadata": {
        "colab": {
          "base_uri": "https://localhost:8080/"
        },
        "id": "ZMIy4EeGoZ2S",
        "outputId": "fca16ef0-5ee7-4d20-d97d-6fb4bfbebd91"
      },
      "source": [
        "# Crop images. 1600 x 1600\n",
        "cencrop_lis = list()\n",
        "\n",
        "for i in j_list:\n",
        "    cencrop_lis.append(centercrop(i, 1600))"
      ],
      "execution_count": 34,
      "outputs": [
        {
          "output_type": "stream",
          "name": "stdout",
          "text": [
            "img is PIL. widt = 5312, height = 2988\n",
            "img is PIL. widt = 5312, height = 2988\n",
            "img is PIL. widt = 5312, height = 2988\n",
            "img is PIL. widt = 5312, height = 2988\n",
            "img is PIL. widt = 5312, height = 2988\n",
            "img is PIL. widt = 5312, height = 2988\n",
            "img is PIL. widt = 5312, height = 2988\n",
            "img is PIL. widt = 5312, height = 2988\n",
            "img is PIL. widt = 5312, height = 2988\n",
            "img is PIL. widt = 5312, height = 2988\n",
            "img is PIL. widt = 5312, height = 2988\n",
            "img is PIL. widt = 5312, height = 2988\n",
            "img is PIL. widt = 5312, height = 2988\n",
            "img is PIL. widt = 5312, height = 2988\n",
            "img is PIL. widt = 5312, height = 2988\n",
            "img is PIL. widt = 5312, height = 2988\n",
            "img is PIL. widt = 5312, height = 2988\n",
            "img is PIL. widt = 5312, height = 2988\n"
          ]
        }
      ]
    },
    {
      "cell_type": "code",
      "metadata": {
        "id": "C589CZGL98lA"
      },
      "source": [
        "# For saving the cropped images that start from RAW.\n",
        "newnamelis = list()\n",
        "png_names_path = list()\n",
        "\n",
        "for i in range(len(rawimgs)):\n",
        "    newnamelis.append(rawimgs[i].replace(\"dng\",\"png\"))\n",
        "    png_names_path.append(os.path.join(\"/content/drive/MyDrive/APHIS Farm Bill (2020Milestones)/Protocols/For John/images/New set for John/centercroptest/\", newnamelis[i]))\n",
        "    cencrop_lis[i].save(png_names_path[i])"
      ],
      "execution_count": null,
      "outputs": []
    },
    {
      "cell_type": "code",
      "metadata": {
        "id": "j_9xIRHtJQyg"
      },
      "source": [
        "# For saving the cropped images from other file types.\n",
        "newnamelis = list()\n",
        "png_names_path = list()\n",
        "\n",
        "for i in range(len(new_names)):\n",
        "    newnamelis.append(new_names[i])\n",
        "    png_names_path.append(os.path.join(\"/content/drive/MyDrive/APHIS Farm Bill (2020Milestones)/Protocols/For John/images/New set for John/collection/December\", newnamelis[i]))\n",
        "    cencrop_lis[i].save(png_names_path[i]) \n",
        "    "
      ],
      "execution_count": 43,
      "outputs": []
    },
    {
      "cell_type": "code",
      "metadata": {
        "id": "9dJOKxZbBZXM"
      },
      "source": [
        "# Write out a bunch of plt. statements because I don't know how to call plt in a loop.\n",
        "for i in range(len(post_im_list)):\n",
        "    colus = int(len(post_im_list)/6)\n",
        "    print(\"plt.subplot(6,{},{})\".format(colus,i+1))\n",
        "    print(\"plt.imshow(post_im_list[{}])\".format(i))"
      ],
      "execution_count": null,
      "outputs": []
    },
    {
      "cell_type": "code",
      "metadata": {
        "id": "zD2qd_aJPYHg"
      },
      "source": [
        "# Optional plotting here.\n",
        "plt.figure(figsize=(40,20))\n",
        "\n",
        "plt.subplot(..."
      ],
      "execution_count": null,
      "outputs": []
    },
    {
      "cell_type": "code",
      "metadata": {
        "id": "8KC5MhXYWAXd"
      },
      "source": [
        "# Unstested.\n",
        "# Read raw and convert to tensor. \n",
        "first_tensor_list = list()\n",
        "model_tensor_list = list()\n",
        "\n",
        "for i in range(len(cencrop_lis)):\n",
        "    tensor_list.append(torch.tensor(cencrop_lis[i]))\n",
        "    tensor_list[i] = tensor_list[i].to(device)\n",
        "    model_tensor_list[i].append(convert_image_dtype(first_tensor_list[i], dtype=torch.float))"
      ],
      "execution_count": null,
      "outputs": []
    }
  ]
}