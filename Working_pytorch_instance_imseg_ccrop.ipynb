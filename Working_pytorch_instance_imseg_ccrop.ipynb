{
  "nbformat": 4,
  "nbformat_minor": 0,
  "metadata": {
    "colab": {
      "name": "Working_pytorch_instance_imseg_ccrop.ipynb",
      "provenance": [],
      "collapsed_sections": [],
      "authorship_tag": "ABX9TyO9fhpSCKiqcS2WlaTuEFcn",
      "include_colab_link": true
    },
    "kernelspec": {
      "name": "python3",
      "display_name": "Python 3"
    },
    "language_info": {
      "name": "python"
    },
    "accelerator": "GPU",
    "widgets": {
      "application/vnd.jupyter.widget-state+json": {
        "17c4f6f2728d4df08eac45d3fe43beea": {
          "model_module": "@jupyter-widgets/controls",
          "model_name": "HBoxModel",
          "model_module_version": "1.5.0",
          "state": {
            "_view_name": "HBoxView",
            "_dom_classes": [],
            "_model_name": "HBoxModel",
            "_view_module": "@jupyter-widgets/controls",
            "_model_module_version": "1.5.0",
            "_view_count": null,
            "_view_module_version": "1.5.0",
            "box_style": "",
            "layout": "IPY_MODEL_1a6d25e1ccfb416aa07926cadc1f0065",
            "_model_module": "@jupyter-widgets/controls",
            "children": [
              "IPY_MODEL_ccc278beca5a4232ad58349c73e7af74",
              "IPY_MODEL_27fb16d989734441a36c3ba4243872f3",
              "IPY_MODEL_10f5bfe25be94bdbaf4294d7b5e15c0d"
            ]
          }
        },
        "1a6d25e1ccfb416aa07926cadc1f0065": {
          "model_module": "@jupyter-widgets/base",
          "model_name": "LayoutModel",
          "model_module_version": "1.2.0",
          "state": {
            "_view_name": "LayoutView",
            "grid_template_rows": null,
            "right": null,
            "justify_content": null,
            "_view_module": "@jupyter-widgets/base",
            "overflow": null,
            "_model_module_version": "1.2.0",
            "_view_count": null,
            "flex_flow": null,
            "width": null,
            "min_width": null,
            "border": null,
            "align_items": null,
            "bottom": null,
            "_model_module": "@jupyter-widgets/base",
            "top": null,
            "grid_column": null,
            "overflow_y": null,
            "overflow_x": null,
            "grid_auto_flow": null,
            "grid_area": null,
            "grid_template_columns": null,
            "flex": null,
            "_model_name": "LayoutModel",
            "justify_items": null,
            "grid_row": null,
            "max_height": null,
            "align_content": null,
            "visibility": null,
            "align_self": null,
            "height": null,
            "min_height": null,
            "padding": null,
            "grid_auto_rows": null,
            "grid_gap": null,
            "max_width": null,
            "order": null,
            "_view_module_version": "1.2.0",
            "grid_template_areas": null,
            "object_position": null,
            "object_fit": null,
            "grid_auto_columns": null,
            "margin": null,
            "display": null,
            "left": null
          }
        },
        "ccc278beca5a4232ad58349c73e7af74": {
          "model_module": "@jupyter-widgets/controls",
          "model_name": "HTMLModel",
          "model_module_version": "1.5.0",
          "state": {
            "_view_name": "HTMLView",
            "style": "IPY_MODEL_663782b9c7d748c1ad0d84dd8c6b11e9",
            "_dom_classes": [],
            "description": "",
            "_model_name": "HTMLModel",
            "placeholder": "​",
            "_view_module": "@jupyter-widgets/controls",
            "_model_module_version": "1.5.0",
            "value": "100%",
            "_view_count": null,
            "_view_module_version": "1.5.0",
            "description_tooltip": null,
            "_model_module": "@jupyter-widgets/controls",
            "layout": "IPY_MODEL_f548ae19dbff43168e6029b9e09fc4c7"
          }
        },
        "27fb16d989734441a36c3ba4243872f3": {
          "model_module": "@jupyter-widgets/controls",
          "model_name": "FloatProgressModel",
          "model_module_version": "1.5.0",
          "state": {
            "_view_name": "ProgressView",
            "style": "IPY_MODEL_c541a585dae44cd3a332d49536b54375",
            "_dom_classes": [],
            "description": "",
            "_model_name": "FloatProgressModel",
            "bar_style": "success",
            "max": 167502836,
            "_view_module": "@jupyter-widgets/controls",
            "_model_module_version": "1.5.0",
            "value": 167502836,
            "_view_count": null,
            "_view_module_version": "1.5.0",
            "orientation": "horizontal",
            "min": 0,
            "description_tooltip": null,
            "_model_module": "@jupyter-widgets/controls",
            "layout": "IPY_MODEL_797126406e0e4bd3b50c5f1001265d15"
          }
        },
        "10f5bfe25be94bdbaf4294d7b5e15c0d": {
          "model_module": "@jupyter-widgets/controls",
          "model_name": "HTMLModel",
          "model_module_version": "1.5.0",
          "state": {
            "_view_name": "HTMLView",
            "style": "IPY_MODEL_2b25b0504ef448ddb81838d7f5b70d35",
            "_dom_classes": [],
            "description": "",
            "_model_name": "HTMLModel",
            "placeholder": "​",
            "_view_module": "@jupyter-widgets/controls",
            "_model_module_version": "1.5.0",
            "value": " 160M/160M [00:01&lt;00:00, 97.8MB/s]",
            "_view_count": null,
            "_view_module_version": "1.5.0",
            "description_tooltip": null,
            "_model_module": "@jupyter-widgets/controls",
            "layout": "IPY_MODEL_865df74b13004b889040ece95f02d121"
          }
        },
        "663782b9c7d748c1ad0d84dd8c6b11e9": {
          "model_module": "@jupyter-widgets/controls",
          "model_name": "DescriptionStyleModel",
          "model_module_version": "1.5.0",
          "state": {
            "_view_name": "StyleView",
            "_model_name": "DescriptionStyleModel",
            "description_width": "",
            "_view_module": "@jupyter-widgets/base",
            "_model_module_version": "1.5.0",
            "_view_count": null,
            "_view_module_version": "1.2.0",
            "_model_module": "@jupyter-widgets/controls"
          }
        },
        "f548ae19dbff43168e6029b9e09fc4c7": {
          "model_module": "@jupyter-widgets/base",
          "model_name": "LayoutModel",
          "model_module_version": "1.2.0",
          "state": {
            "_view_name": "LayoutView",
            "grid_template_rows": null,
            "right": null,
            "justify_content": null,
            "_view_module": "@jupyter-widgets/base",
            "overflow": null,
            "_model_module_version": "1.2.0",
            "_view_count": null,
            "flex_flow": null,
            "width": null,
            "min_width": null,
            "border": null,
            "align_items": null,
            "bottom": null,
            "_model_module": "@jupyter-widgets/base",
            "top": null,
            "grid_column": null,
            "overflow_y": null,
            "overflow_x": null,
            "grid_auto_flow": null,
            "grid_area": null,
            "grid_template_columns": null,
            "flex": null,
            "_model_name": "LayoutModel",
            "justify_items": null,
            "grid_row": null,
            "max_height": null,
            "align_content": null,
            "visibility": null,
            "align_self": null,
            "height": null,
            "min_height": null,
            "padding": null,
            "grid_auto_rows": null,
            "grid_gap": null,
            "max_width": null,
            "order": null,
            "_view_module_version": "1.2.0",
            "grid_template_areas": null,
            "object_position": null,
            "object_fit": null,
            "grid_auto_columns": null,
            "margin": null,
            "display": null,
            "left": null
          }
        },
        "c541a585dae44cd3a332d49536b54375": {
          "model_module": "@jupyter-widgets/controls",
          "model_name": "ProgressStyleModel",
          "model_module_version": "1.5.0",
          "state": {
            "_view_name": "StyleView",
            "_model_name": "ProgressStyleModel",
            "description_width": "",
            "_view_module": "@jupyter-widgets/base",
            "_model_module_version": "1.5.0",
            "_view_count": null,
            "_view_module_version": "1.2.0",
            "bar_color": null,
            "_model_module": "@jupyter-widgets/controls"
          }
        },
        "797126406e0e4bd3b50c5f1001265d15": {
          "model_module": "@jupyter-widgets/base",
          "model_name": "LayoutModel",
          "model_module_version": "1.2.0",
          "state": {
            "_view_name": "LayoutView",
            "grid_template_rows": null,
            "right": null,
            "justify_content": null,
            "_view_module": "@jupyter-widgets/base",
            "overflow": null,
            "_model_module_version": "1.2.0",
            "_view_count": null,
            "flex_flow": null,
            "width": null,
            "min_width": null,
            "border": null,
            "align_items": null,
            "bottom": null,
            "_model_module": "@jupyter-widgets/base",
            "top": null,
            "grid_column": null,
            "overflow_y": null,
            "overflow_x": null,
            "grid_auto_flow": null,
            "grid_area": null,
            "grid_template_columns": null,
            "flex": null,
            "_model_name": "LayoutModel",
            "justify_items": null,
            "grid_row": null,
            "max_height": null,
            "align_content": null,
            "visibility": null,
            "align_self": null,
            "height": null,
            "min_height": null,
            "padding": null,
            "grid_auto_rows": null,
            "grid_gap": null,
            "max_width": null,
            "order": null,
            "_view_module_version": "1.2.0",
            "grid_template_areas": null,
            "object_position": null,
            "object_fit": null,
            "grid_auto_columns": null,
            "margin": null,
            "display": null,
            "left": null
          }
        },
        "2b25b0504ef448ddb81838d7f5b70d35": {
          "model_module": "@jupyter-widgets/controls",
          "model_name": "DescriptionStyleModel",
          "model_module_version": "1.5.0",
          "state": {
            "_view_name": "StyleView",
            "_model_name": "DescriptionStyleModel",
            "description_width": "",
            "_view_module": "@jupyter-widgets/base",
            "_model_module_version": "1.5.0",
            "_view_count": null,
            "_view_module_version": "1.2.0",
            "_model_module": "@jupyter-widgets/controls"
          }
        },
        "865df74b13004b889040ece95f02d121": {
          "model_module": "@jupyter-widgets/base",
          "model_name": "LayoutModel",
          "model_module_version": "1.2.0",
          "state": {
            "_view_name": "LayoutView",
            "grid_template_rows": null,
            "right": null,
            "justify_content": null,
            "_view_module": "@jupyter-widgets/base",
            "overflow": null,
            "_model_module_version": "1.2.0",
            "_view_count": null,
            "flex_flow": null,
            "width": null,
            "min_width": null,
            "border": null,
            "align_items": null,
            "bottom": null,
            "_model_module": "@jupyter-widgets/base",
            "top": null,
            "grid_column": null,
            "overflow_y": null,
            "overflow_x": null,
            "grid_auto_flow": null,
            "grid_area": null,
            "grid_template_columns": null,
            "flex": null,
            "_model_name": "LayoutModel",
            "justify_items": null,
            "grid_row": null,
            "max_height": null,
            "align_content": null,
            "visibility": null,
            "align_self": null,
            "height": null,
            "min_height": null,
            "padding": null,
            "grid_auto_rows": null,
            "grid_gap": null,
            "max_width": null,
            "order": null,
            "_view_module_version": "1.2.0",
            "grid_template_areas": null,
            "object_position": null,
            "object_fit": null,
            "grid_auto_columns": null,
            "margin": null,
            "display": null,
            "left": null
          }
        }
      }
    }
  },
  "cells": [
    {
      "cell_type": "markdown",
      "metadata": {
        "id": "view-in-github",
        "colab_type": "text"
      },
      "source": [
        "<a href=\"https://colab.research.google.com/github/ncsu-landscape-dynamics/LAMP_assay_automation/blob/main/Working_pytorch_instance_imseg_ccrop.ipynb\" target=\"_parent\"><img src=\"https://colab.research.google.com/assets/colab-badge.svg\" alt=\"Open In Colab\"/></a>"
      ]
    },
    {
      "cell_type": "code",
      "metadata": {
        "colab": {
          "base_uri": "https://localhost:8080/"
        },
        "id": "thyNLvhjnN4e",
        "outputId": "8f63b8cf-9a3b-4a9c-d85b-48f6dff681bb"
      },
      "source": [
        "# https://pytorch.org/tutorials/intermediate/torchvision_tutorial.html\n",
        "\n",
        "import os\n",
        "import numpy as np\n",
        "import torch\n",
        "import torch.utils.data\n",
        "from PIL import Image\n",
        "import matplotlib.pyplot as plt\n",
        "import matplotlib.image as mpimg\n",
        "\n",
        "from google.colab import drive\n",
        "drive.mount('/content/drive', force_remount=True)\n",
        "\n",
        "class four_chs(torch.utils.data.Dataset):\n",
        "    def __init__(self, root, transforms=None, target_transform=None):\n",
        "        self.root = root\n",
        "        self.transforms = transforms\n",
        "        self.target_transform = target_transform\n",
        "        # load all image files, sorting them to\n",
        "        # ensure that they are aligned\n",
        "        self.imgs = list(sorted(os.listdir(os.path.join(root, \"imgs_centercropped\"))))\n",
        "        self.masks = list(sorted(os.listdir(os.path.join(root, \"masks_centercropped\"))))\n",
        "\n",
        "    def __getitem__(self, idx):\n",
        "        # load images ad masks\n",
        "        img_path = os.path.join(self.root, \"imgs_centercropped\", self.imgs[idx])\n",
        "        mask_path = os.path.join(self.root, \"masks_centercropped\", self.masks[idx])\n",
        "        img = Image.open(img_path).convert(\"RGB\")\n",
        "        # note that we haven't converted the mask to RGB,\n",
        "        # because each color corresponds to a different instance\n",
        "        # with 0 being background\n",
        "        mask = Image.open(mask_path)\n",
        "\n",
        "        # Convert from image object to array\n",
        "        mask = np.array(mask)\n",
        "        \n",
        "        obj_ids = np.unique(mask)\n",
        "        # first is background, other values are noise, removed them\n",
        "        obj_ids = obj_ids[-4:]\n",
        "\n",
        "        # split the color-encoded mask into a set\n",
        "        # of binary masks\n",
        "        masks = mask == obj_ids[:, None, None]\n",
        "\n",
        "        # get bounding box coordinates for each mask\n",
        "        num_objs = len(obj_ids)\n",
        "        boxes = []\n",
        "        for i in range(num_objs):\n",
        "            pos = np.where(masks[i])\n",
        "            xmin = np.min(pos[1])\n",
        "            xmax = np.max(pos[1])\n",
        "            ymin = np.min(pos[0])\n",
        "            ymax = np.max(pos[0])\n",
        "            boxes.append([xmin, ymin, xmax, ymax])\n",
        "\n",
        "        boxes = torch.as_tensor(boxes, dtype=torch.float32)\n",
        "        # there is only one class\n",
        "        labels = torch.ones((num_objs,), dtype=torch.int64)\n",
        "        masks = torch.as_tensor(masks, dtype=torch.uint8)\n",
        "\n",
        "        image_id = torch.tensor([idx])\n",
        "        area = (boxes[:, 3] - boxes[:, 1]) * (boxes[:, 2] - boxes[:, 0])\n",
        "        # suppose all instances are not crowd\n",
        "        iscrowd = torch.zeros((num_objs,), dtype=torch.int64)\n",
        "\n",
        "        target = {}\n",
        "        target[\"boxes\"] = boxes\n",
        "        target[\"labels\"] = labels\n",
        "        target[\"masks\"] = masks\n",
        "        target[\"image_id\"] = image_id\n",
        "        target[\"area\"] = area\n",
        "        target[\"iscrowd\"] = iscrowd\n",
        "\n",
        "        if self.transforms is not None:\n",
        "            img, target = self.transforms(img, target)\n",
        "\n",
        "        return img, target\n",
        "\n",
        "    def __len__(self):\n",
        "        return len(self.imgs)"
      ],
      "execution_count": 9,
      "outputs": [
        {
          "output_type": "stream",
          "name": "stdout",
          "text": [
            "Mounted at /content/drive\n"
          ]
        }
      ]
    },
    {
      "cell_type": "code",
      "metadata": {
        "id": "ASZUhOClbBgs",
        "colab": {
          "base_uri": "https://localhost:8080/"
        },
        "outputId": "42530e29-7cda-42b4-988c-4238516877eb"
      },
      "source": [
        "#os.chdir('drive/MyDrive/Colab Notebooks')\n",
        "\n",
        "%%shell\n",
        "\n",
        "# Download TorchVision repo to use some files from\n",
        "# references/detection\n",
        "git clone https://github.com/pytorch/vision.git\n",
        "cd vision\n",
        "git checkout v0.3.0\n",
        "\n",
        "cp references/detection/utils.py ../\n",
        "cp references/detection/transforms.py ../\n",
        "cp references/detection/coco_eval.py ../\n",
        "cp references/detection/engine.py ../\n",
        "cp references/detection/coco_utils.py ../"
      ],
      "execution_count": 2,
      "outputs": [
        {
          "output_type": "stream",
          "name": "stdout",
          "text": [
            "Cloning into 'vision'...\n",
            "remote: Enumerating objects: 64548, done.\u001b[K\n",
            "remote: Counting objects: 100% (4328/4328), done.\u001b[K\n",
            "remote: Compressing objects: 100% (883/883), done.\u001b[K\n",
            "remote: Total 64548 (delta 3823), reused 3764 (delta 3423), pack-reused 60220\u001b[K\n",
            "Receiving objects: 100% (64548/64548), 125.92 MiB | 23.19 MiB/s, done.\n",
            "Resolving deltas: 100% (52584/52584), done.\n",
            "Note: checking out 'v0.3.0'.\n",
            "\n",
            "You are in 'detached HEAD' state. You can look around, make experimental\n",
            "changes and commit them, and you can discard any commits you make in this\n",
            "state without impacting any branches by performing another checkout.\n",
            "\n",
            "If you want to create a new branch to retain commits you create, you may\n",
            "do so (now or later) by using -b with the checkout command again. Example:\n",
            "\n",
            "  git checkout -b <new-branch-name>\n",
            "\n",
            "HEAD is now at be376084 version check against PyTorch's CUDA version\n"
          ]
        },
        {
          "output_type": "execute_result",
          "data": {
            "text/plain": [
              ""
            ]
          },
          "metadata": {},
          "execution_count": 2
        }
      ]
    },
    {
      "cell_type": "code",
      "metadata": {
        "id": "1tX1QjxcShEu"
      },
      "source": [
        "# testing\n",
        "#dataset0 = four_chs(root=\"/content/drive/MyDrive/APHIS Farm Bill (2020Milestones)/Protocols/For John/images/New set for John/collection/four_chambers\")"
      ],
      "execution_count": null,
      "outputs": []
    },
    {
      "cell_type": "code",
      "metadata": {
        "id": "uC00k1lQyZ7v"
      },
      "source": [
        "# testing\n",
        "#dataset0[0]"
      ],
      "execution_count": null,
      "outputs": []
    },
    {
      "cell_type": "code",
      "metadata": {
        "id": "9npNTUA7xmRe",
        "colab": {
          "base_uri": "https://localhost:8080/",
          "height": 87,
          "referenced_widgets": [
            "17c4f6f2728d4df08eac45d3fe43beea",
            "1a6d25e1ccfb416aa07926cadc1f0065",
            "ccc278beca5a4232ad58349c73e7af74",
            "27fb16d989734441a36c3ba4243872f3",
            "10f5bfe25be94bdbaf4294d7b5e15c0d",
            "663782b9c7d748c1ad0d84dd8c6b11e9",
            "f548ae19dbff43168e6029b9e09fc4c7",
            "c541a585dae44cd3a332d49536b54375",
            "797126406e0e4bd3b50c5f1001265d15",
            "2b25b0504ef448ddb81838d7f5b70d35",
            "865df74b13004b889040ece95f02d121"
          ]
        },
        "outputId": "9a8e9e5d-3344-4878-b7f6-6f921328cfb5"
      },
      "source": [
        "import torchvision\n",
        "from torchvision.models.detection.faster_rcnn import FastRCNNPredictor\n",
        " \n",
        "# load a model pre-trained pre-trained on COCO\n",
        "model = torchvision.models.detection.fasterrcnn_resnet50_fpn(pretrained=True)\n",
        " \n",
        "# replace the classifier with a new one, that has\n",
        "# num_classes which is user-defined\n",
        "num_classes = 2  # 1 class (person) + background\n",
        "# get number of input features for the classifier\n",
        "in_features = model.roi_heads.box_predictor.cls_score.in_features\n",
        "# replace the pre-trained head with a new one\n",
        "model.roi_heads.box_predictor = FastRCNNPredictor(in_features, num_classes) "
      ],
      "execution_count": 3,
      "outputs": [
        {
          "output_type": "stream",
          "name": "stderr",
          "text": [
            "Downloading: \"https://download.pytorch.org/models/fasterrcnn_resnet50_fpn_coco-258fb6c6.pth\" to /root/.cache/torch/hub/checkpoints/fasterrcnn_resnet50_fpn_coco-258fb6c6.pth\n"
          ]
        },
        {
          "output_type": "display_data",
          "data": {
            "application/vnd.jupyter.widget-view+json": {
              "model_id": "17c4f6f2728d4df08eac45d3fe43beea",
              "version_minor": 0,
              "version_major": 2
            },
            "text/plain": [
              "  0%|          | 0.00/160M [00:00<?, ?B/s]"
            ]
          },
          "metadata": {}
        }
      ]
    },
    {
      "cell_type": "code",
      "metadata": {
        "id": "iBUwqXo4MpAw"
      },
      "source": [
        "import torchvision\n",
        "from torchvision.models.detection.faster_rcnn import FastRCNNPredictor\n",
        "from torchvision.models.detection.mask_rcnn import MaskRCNNPredictor\n",
        "\n",
        "\n",
        "def get_model_instance_segmentation(num_classes):\n",
        "    # load an instance segmentation model pre-trained pre-trained on COCO\n",
        "    model = torchvision.models.detection.maskrcnn_resnet50_fpn(pretrained=True)\n",
        "\n",
        "    # get number of input features for the classifier\n",
        "    in_features = model.roi_heads.box_predictor.cls_score.in_features\n",
        "    # replace the pre-trained head with a new one\n",
        "    model.roi_heads.box_predictor = FastRCNNPredictor(in_features, num_classes)\n",
        "\n",
        "    # now get the number of input features for the mask classifier\n",
        "    in_features_mask = model.roi_heads.mask_predictor.conv5_mask.in_channels\n",
        "    hidden_layer = 256\n",
        "    # and replace the mask predictor with a new one\n",
        "    model.roi_heads.mask_predictor = MaskRCNNPredictor(in_features_mask,\n",
        "                                                       hidden_layer,\n",
        "                                                       num_classes)\n",
        "\n",
        "    return model"
      ],
      "execution_count": 4,
      "outputs": []
    },
    {
      "cell_type": "code",
      "metadata": {
        "id": "TP1ebz8PUi7J"
      },
      "source": [
        "from engine import train_one_epoch, evaluate\n",
        "import utils\n",
        "import transforms as T\n",
        "\n",
        "\n",
        "def get_transform(train):\n",
        "    transforms = []\n",
        "    # converts the image, a PIL image, into a PyTorch Tensor\n",
        "    transforms.append(T.ToTensor())\n",
        "    if train:\n",
        "        # during training, randomly flip the training images\n",
        "        # and ground-truth for data augmentation\n",
        "        transforms.append(T.RandomHorizontalFlip(0.5))\n",
        "    return T.Compose(transforms)"
      ],
      "execution_count": 5,
      "outputs": []
    },
    {
      "cell_type": "code",
      "metadata": {
        "id": "T4BoIh1gz6xk"
      },
      "source": [
        "# use our dataset and defined transformations\n",
        "dataset = four_chs(root = '/content/drive/MyDrive/APHIS Farm Bill (2020Milestones)/Protocols/For John/images/New set for John/collection/four_chambers', transforms = get_transform(train=True))\n",
        "dataset_test = four_chs(root = '/content/drive/MyDrive/APHIS Farm Bill (2020Milestones)/Protocols/For John/images/New set for John/collection/four_chambers', transforms = get_transform(train=False))\n",
        "\n",
        "# split the dataset in train and test set\n",
        "torch.manual_seed(1)\n",
        "indices = torch.randperm(len(dataset)).tolist()\n",
        "dataset = torch.utils.data.Subset(dataset, indices[:-4])\n",
        "dataset_test = torch.utils.data.Subset(dataset_test, indices[-4:])\n",
        "\n",
        "# define training and validation data loaders\n",
        "data_loader = torch.utils.data.DataLoader(\n",
        "    dataset, batch_size=1, shuffle=True, num_workers=2,\n",
        "    collate_fn=utils.collate_fn)\n",
        "\n",
        "data_loader_test = torch.utils.data.DataLoader(\n",
        "    dataset_test, batch_size=1, shuffle=False, num_workers=2,\n",
        "    collate_fn=utils.collate_fn)\n",
        "\n",
        "## Next few lines are brief examples of this cell and next. They appear in the\n",
        "## tutorial. They are optional given that they are covered elsewhere. Test says:\n",
        "## \"Testing forward() method\n",
        "## Before iterating over the dataset, it’s good to see what the model expects \n",
        "## during training and inference time on sample data.\"\"\n",
        "## For Training\n",
        "#images,targets = next(iter(data_loader))\n",
        "#images = list(image for image in images)\n",
        "#targets = [{k: v for k, v in t.items()} for t in targets]\n",
        "#output = model(images,targets)   # Returns losses and detections\n",
        "## For inference\n",
        "#model.eval()\n",
        "#x = [torch.rand(3, 300, 400), torch.rand(3, 500, 400)]\n",
        "#predictions = model(x)  "
      ],
      "execution_count": 10,
      "outputs": []
    },
    {
      "cell_type": "code",
      "execution_count": null,
      "metadata": {
        "id": "c04spXqVeu-8"
      },
      "outputs": [],
      "source": [
        "device = torch.device('cuda') if torch.cuda.is_available() else torch.device('cpu')\n",
        "\n",
        "warnings.filterwarnings(\"ignore\")#, message=\"UserWarning: Named tensors and all their associated\")\n",
        "\n",
        "# Load the model from the saved file:\n",
        "model = torch.load('/content/drive/MyDrive/instance_model/MaskInstanceModel_newlr.pth', map_location=device)\n",
        "model.load_state_dict(torch.load('/content/drive/MyDrive/instance_model/MaskModelParams_newlr.pth', map_location=device))\n",
        "#model.to(device)\n",
        "\n",
        "#The output from this can be cleared from the screen. Don't know how to do that.\n",
        "model.eval()"
      ]
    },
    {
      "cell_type": "code",
      "metadata": {
        "id": "6kwig7t_rjcT"
      },
      "source": [
        "device = torch.device('cuda') if torch.cuda.is_available() else torch.device('cpu')\n",
        "\n",
        "# our dataset has five classes\n",
        "num_classes = 2\n",
        "\n",
        "# get the model using our helper function\n",
        "model = get_model_instance_segmentation(num_classes)\n",
        "# move model to the right device\n",
        "model.to(device)\n",
        "\n",
        "# construct an optimizer\n",
        "params = [p for p in model.parameters() if p.requires_grad]\n",
        "optimizer = torch.optim.SGD(params, lr=0.001,\n",
        "                            momentum=0.9, weight_decay=0.0005)\n",
        "\n",
        "# and a learning rate scheduler which decreases the learning rate by\n",
        "# 10x every 3 epochs\n",
        "lr_scheduler = torch.optim.lr_scheduler.StepLR(optimizer,\n",
        "                                               step_size=3,\n",
        "                                               gamma=0.1)"
      ],
      "execution_count": 11,
      "outputs": []
    },
    {
      "cell_type": "code",
      "metadata": {
        "id": "nJRofw-Lrsc2",
        "colab": {
          "base_uri": "https://localhost:8080/"
        },
        "outputId": "7f88cf22-5480-4f00-f03a-fae6ee535918"
      },
      "source": [
        "# let's train it for 10 epochs\n",
        "num_epochs = 10\n",
        "\n",
        "for epoch in range(num_epochs):\n",
        "    # train for one epoch, printing every 10 iterations\n",
        "    train_one_epoch(model, optimizer, data_loader, device, epoch, print_freq=10)\n",
        "    # update the learning rate\n",
        "    lr_scheduler.step()\n",
        "    # evaluate on the test dataset\n",
        "    evaluate(model, data_loader_test, device=device)"
      ],
      "execution_count": 12,
      "outputs": [
        {
          "output_type": "stream",
          "name": "stderr",
          "text": [
            "/usr/local/lib/python3.7/dist-packages/torch/functional.py:445: UserWarning: torch.meshgrid: in an upcoming release, it will be required to pass the indexing argument. (Triggered internally at  ../aten/src/ATen/native/TensorShape.cpp:2157.)\n",
            "  return _VF.meshgrid(tensors, **kwargs)  # type: ignore[attr-defined]\n"
          ]
        },
        {
          "output_type": "stream",
          "name": "stdout",
          "text": [
            "Epoch: [0]  [ 0/20]  eta: 0:00:53  lr: 0.000054  loss: 8.6439 (8.6439)  loss_classifier: 0.4199 (0.4199)  loss_box_reg: 0.4778 (0.4778)  loss_mask: 7.6947 (7.6947)  loss_objectness: 0.0409 (0.0409)  loss_rpn_box_reg: 0.0107 (0.0107)  time: 2.6740  data: 1.6038  max mem: 1160\n",
            "Epoch: [0]  [10/20]  eta: 0:00:09  lr: 0.000579  loss: 1.8665 (3.9125)  loss_classifier: 0.4158 (0.4111)  loss_box_reg: 0.4967 (0.4890)  loss_mask: 1.0328 (2.9807)  loss_objectness: 0.0206 (0.0238)  loss_rpn_box_reg: 0.0075 (0.0080)  time: 0.9452  data: 0.2062  max mem: 1482\n",
            "Epoch: [0]  [19/20]  eta: 0:00:00  lr: 0.001000  loss: 1.6590 (2.8156)  loss_classifier: 0.3734 (0.3545)  loss_box_reg: 0.5345 (0.5191)  loss_mask: 0.7432 (1.9067)  loss_objectness: 0.0206 (0.0268)  loss_rpn_box_reg: 0.0087 (0.0085)  time: 0.8699  data: 0.1435  max mem: 1485\n",
            "Epoch: [0] Total time: 0:00:17 (0.8731 s / it)\n",
            "creating index...\n",
            "index created!\n",
            "Test:  [0/4]  eta: 0:00:10  model_time: 1.0512 (1.0512)  evaluator_time: 0.8500 (0.8500)  time: 2.5562  data: 0.6308  max mem: 2253\n",
            "Test:  [3/4]  eta: 0:00:01  model_time: 0.5329 (0.7079)  evaluator_time: 0.7167 (0.7471)  time: 1.6457  data: 0.1662  max mem: 2253\n",
            "Test: Total time: 0:00:06 (1.6585 s / it)\n",
            "Averaged stats: model_time: 0.5329 (0.7079)  evaluator_time: 0.7167 (0.7471)\n",
            "Accumulating evaluation results...\n",
            "DONE (t=0.01s).\n",
            "Accumulating evaluation results...\n",
            "DONE (t=0.01s).\n",
            "IoU metric: bbox\n",
            " Average Precision  (AP) @[ IoU=0.50:0.95 | area=   all | maxDets=100 ] = 0.405\n",
            " Average Precision  (AP) @[ IoU=0.50      | area=   all | maxDets=100 ] = 0.950\n",
            " Average Precision  (AP) @[ IoU=0.75      | area=   all | maxDets=100 ] = 0.147\n",
            " Average Precision  (AP) @[ IoU=0.50:0.95 | area= small | maxDets=100 ] = -1.000\n",
            " Average Precision  (AP) @[ IoU=0.50:0.95 | area=medium | maxDets=100 ] = -1.000\n",
            " Average Precision  (AP) @[ IoU=0.50:0.95 | area= large | maxDets=100 ] = 0.405\n",
            " Average Recall     (AR) @[ IoU=0.50:0.95 | area=   all | maxDets=  1 ] = 0.144\n",
            " Average Recall     (AR) @[ IoU=0.50:0.95 | area=   all | maxDets= 10 ] = 0.469\n",
            " Average Recall     (AR) @[ IoU=0.50:0.95 | area=   all | maxDets=100 ] = 0.469\n",
            " Average Recall     (AR) @[ IoU=0.50:0.95 | area= small | maxDets=100 ] = -1.000\n",
            " Average Recall     (AR) @[ IoU=0.50:0.95 | area=medium | maxDets=100 ] = -1.000\n",
            " Average Recall     (AR) @[ IoU=0.50:0.95 | area= large | maxDets=100 ] = 0.469\n",
            "IoU metric: segm\n",
            " Average Precision  (AP) @[ IoU=0.50:0.95 | area=   all | maxDets=100 ] = 0.521\n",
            " Average Precision  (AP) @[ IoU=0.50      | area=   all | maxDets=100 ] = 0.950\n",
            " Average Precision  (AP) @[ IoU=0.75      | area=   all | maxDets=100 ] = 0.475\n",
            " Average Precision  (AP) @[ IoU=0.50:0.95 | area= small | maxDets=100 ] = -1.000\n",
            " Average Precision  (AP) @[ IoU=0.50:0.95 | area=medium | maxDets=100 ] = -1.000\n",
            " Average Precision  (AP) @[ IoU=0.50:0.95 | area= large | maxDets=100 ] = 0.521\n",
            " Average Recall     (AR) @[ IoU=0.50:0.95 | area=   all | maxDets=  1 ] = 0.169\n",
            " Average Recall     (AR) @[ IoU=0.50:0.95 | area=   all | maxDets= 10 ] = 0.562\n",
            " Average Recall     (AR) @[ IoU=0.50:0.95 | area=   all | maxDets=100 ] = 0.569\n",
            " Average Recall     (AR) @[ IoU=0.50:0.95 | area= small | maxDets=100 ] = -1.000\n",
            " Average Recall     (AR) @[ IoU=0.50:0.95 | area=medium | maxDets=100 ] = -1.000\n",
            " Average Recall     (AR) @[ IoU=0.50:0.95 | area= large | maxDets=100 ] = 0.569\n",
            "Epoch: [1]  [ 0/20]  eta: 0:00:27  lr: 0.001000  loss: 0.9698 (0.9698)  loss_classifier: 0.1524 (0.1524)  loss_box_reg: 0.3786 (0.3786)  loss_mask: 0.4085 (0.4085)  loss_objectness: 0.0146 (0.0146)  loss_rpn_box_reg: 0.0156 (0.0156)  time: 1.3909  data: 0.6961  max mem: 2253\n",
            "Epoch: [1]  [10/20]  eta: 0:00:07  lr: 0.001000  loss: 1.0132 (1.0710)  loss_classifier: 0.1907 (0.1886)  loss_box_reg: 0.4705 (0.4675)  loss_mask: 0.3274 (0.3908)  loss_objectness: 0.0040 (0.0148)  loss_rpn_box_reg: 0.0106 (0.0094)  time: 0.7952  data: 0.0779  max mem: 2253\n",
            "Epoch: [1]  [19/20]  eta: 0:00:00  lr: 0.001000  loss: 0.9528 (1.0002)  loss_classifier: 0.1731 (0.1689)  loss_box_reg: 0.4463 (0.4615)  loss_mask: 0.2600 (0.3510)  loss_objectness: 0.0040 (0.0115)  loss_rpn_box_reg: 0.0049 (0.0073)  time: 0.7698  data: 0.0491  max mem: 2253\n",
            "Epoch: [1] Total time: 0:00:15 (0.7737 s / it)\n",
            "creating index...\n",
            "index created!\n",
            "Test:  [0/4]  eta: 0:00:05  model_time: 0.6446 (0.6446)  evaluator_time: 0.1900 (0.1900)  time: 1.4784  data: 0.6268  max mem: 2253\n",
            "Test:  [3/4]  eta: 0:00:00  model_time: 0.3717 (0.4541)  evaluator_time: 0.1760 (0.1735)  time: 0.8072  data: 0.1647  max mem: 2253\n",
            "Test: Total time: 0:00:03 (0.8280 s / it)\n",
            "Averaged stats: model_time: 0.3717 (0.4541)  evaluator_time: 0.1760 (0.1735)\n",
            "Accumulating evaluation results...\n",
            "DONE (t=0.01s).\n",
            "Accumulating evaluation results...\n",
            "DONE (t=0.01s).\n",
            "IoU metric: bbox\n",
            " Average Precision  (AP) @[ IoU=0.50:0.95 | area=   all | maxDets=100 ] = 0.641\n",
            " Average Precision  (AP) @[ IoU=0.50      | area=   all | maxDets=100 ] = 1.000\n",
            " Average Precision  (AP) @[ IoU=0.75      | area=   all | maxDets=100 ] = 0.734\n",
            " Average Precision  (AP) @[ IoU=0.50:0.95 | area= small | maxDets=100 ] = -1.000\n",
            " Average Precision  (AP) @[ IoU=0.50:0.95 | area=medium | maxDets=100 ] = -1.000\n",
            " Average Precision  (AP) @[ IoU=0.50:0.95 | area= large | maxDets=100 ] = 0.641\n",
            " Average Recall     (AR) @[ IoU=0.50:0.95 | area=   all | maxDets=  1 ] = 0.181\n",
            " Average Recall     (AR) @[ IoU=0.50:0.95 | area=   all | maxDets= 10 ] = 0.650\n",
            " Average Recall     (AR) @[ IoU=0.50:0.95 | area=   all | maxDets=100 ] = 0.650\n",
            " Average Recall     (AR) @[ IoU=0.50:0.95 | area= small | maxDets=100 ] = -1.000\n",
            " Average Recall     (AR) @[ IoU=0.50:0.95 | area=medium | maxDets=100 ] = -1.000\n",
            " Average Recall     (AR) @[ IoU=0.50:0.95 | area= large | maxDets=100 ] = 0.650\n",
            "IoU metric: segm\n",
            " Average Precision  (AP) @[ IoU=0.50:0.95 | area=   all | maxDets=100 ] = 0.726\n",
            " Average Precision  (AP) @[ IoU=0.50      | area=   all | maxDets=100 ] = 1.000\n",
            " Average Precision  (AP) @[ IoU=0.75      | area=   all | maxDets=100 ] = 0.950\n",
            " Average Precision  (AP) @[ IoU=0.50:0.95 | area= small | maxDets=100 ] = -1.000\n",
            " Average Precision  (AP) @[ IoU=0.50:0.95 | area=medium | maxDets=100 ] = -1.000\n",
            " Average Precision  (AP) @[ IoU=0.50:0.95 | area= large | maxDets=100 ] = 0.726\n",
            " Average Recall     (AR) @[ IoU=0.50:0.95 | area=   all | maxDets=  1 ] = 0.200\n",
            " Average Recall     (AR) @[ IoU=0.50:0.95 | area=   all | maxDets= 10 ] = 0.738\n",
            " Average Recall     (AR) @[ IoU=0.50:0.95 | area=   all | maxDets=100 ] = 0.744\n",
            " Average Recall     (AR) @[ IoU=0.50:0.95 | area= small | maxDets=100 ] = -1.000\n",
            " Average Recall     (AR) @[ IoU=0.50:0.95 | area=medium | maxDets=100 ] = -1.000\n",
            " Average Recall     (AR) @[ IoU=0.50:0.95 | area= large | maxDets=100 ] = 0.744\n",
            "Epoch: [2]  [ 0/20]  eta: 0:00:27  lr: 0.001000  loss: 0.7313 (0.7313)  loss_classifier: 0.1072 (0.1072)  loss_box_reg: 0.4166 (0.4166)  loss_mask: 0.2028 (0.2028)  loss_objectness: 0.0007 (0.0007)  loss_rpn_box_reg: 0.0041 (0.0041)  time: 1.3989  data: 0.6725  max mem: 2253\n",
            "Epoch: [2]  [10/20]  eta: 0:00:08  lr: 0.001000  loss: 0.7530 (0.9544)  loss_classifier: 0.1373 (0.1621)  loss_box_reg: 0.3747 (0.3699)  loss_mask: 0.2697 (0.3933)  loss_objectness: 0.0050 (0.0220)  loss_rpn_box_reg: 0.0049 (0.0072)  time: 0.8044  data: 0.0740  max mem: 2253\n",
            "Epoch: [2]  [19/20]  eta: 0:00:00  lr: 0.001000  loss: 0.7011 (0.7744)  loss_classifier: 0.1102 (0.1312)  loss_box_reg: 0.2806 (0.3109)  loss_mask: 0.2289 (0.3123)  loss_objectness: 0.0035 (0.0148)  loss_rpn_box_reg: 0.0029 (0.0052)  time: 0.7721  data: 0.0465  max mem: 2253\n",
            "Epoch: [2] Total time: 0:00:15 (0.7759 s / it)\n",
            "creating index...\n",
            "index created!\n",
            "Test:  [0/4]  eta: 0:00:05  model_time: 0.6543 (0.6543)  evaluator_time: 0.1712 (0.1712)  time: 1.4792  data: 0.6379  max mem: 2253\n",
            "Test:  [3/4]  eta: 0:00:00  model_time: 0.3380 (0.4346)  evaluator_time: 0.1270 (0.1352)  time: 0.7503  data: 0.1664  max mem: 2253\n",
            "Test: Total time: 0:00:03 (0.7724 s / it)\n",
            "Averaged stats: model_time: 0.3380 (0.4346)  evaluator_time: 0.1270 (0.1352)\n",
            "Accumulating evaluation results...\n",
            "DONE (t=0.01s).\n",
            "Accumulating evaluation results...\n",
            "DONE (t=0.01s).\n",
            "IoU metric: bbox\n",
            " Average Precision  (AP) @[ IoU=0.50:0.95 | area=   all | maxDets=100 ] = 0.694\n",
            " Average Precision  (AP) @[ IoU=0.50      | area=   all | maxDets=100 ] = 1.000\n",
            " Average Precision  (AP) @[ IoU=0.75      | area=   all | maxDets=100 ] = 0.812\n",
            " Average Precision  (AP) @[ IoU=0.50:0.95 | area= small | maxDets=100 ] = -1.000\n",
            " Average Precision  (AP) @[ IoU=0.50:0.95 | area=medium | maxDets=100 ] = -1.000\n",
            " Average Precision  (AP) @[ IoU=0.50:0.95 | area= large | maxDets=100 ] = 0.694\n",
            " Average Recall     (AR) @[ IoU=0.50:0.95 | area=   all | maxDets=  1 ] = 0.206\n",
            " Average Recall     (AR) @[ IoU=0.50:0.95 | area=   all | maxDets= 10 ] = 0.706\n",
            " Average Recall     (AR) @[ IoU=0.50:0.95 | area=   all | maxDets=100 ] = 0.706\n",
            " Average Recall     (AR) @[ IoU=0.50:0.95 | area= small | maxDets=100 ] = -1.000\n",
            " Average Recall     (AR) @[ IoU=0.50:0.95 | area=medium | maxDets=100 ] = -1.000\n",
            " Average Recall     (AR) @[ IoU=0.50:0.95 | area= large | maxDets=100 ] = 0.706\n",
            "IoU metric: segm\n",
            " Average Precision  (AP) @[ IoU=0.50:0.95 | area=   all | maxDets=100 ] = 0.721\n",
            " Average Precision  (AP) @[ IoU=0.50      | area=   all | maxDets=100 ] = 1.000\n",
            " Average Precision  (AP) @[ IoU=0.75      | area=   all | maxDets=100 ] = 0.956\n",
            " Average Precision  (AP) @[ IoU=0.50:0.95 | area= small | maxDets=100 ] = -1.000\n",
            " Average Precision  (AP) @[ IoU=0.50:0.95 | area=medium | maxDets=100 ] = -1.000\n",
            " Average Precision  (AP) @[ IoU=0.50:0.95 | area= large | maxDets=100 ] = 0.721\n",
            " Average Recall     (AR) @[ IoU=0.50:0.95 | area=   all | maxDets=  1 ] = 0.206\n",
            " Average Recall     (AR) @[ IoU=0.50:0.95 | area=   all | maxDets= 10 ] = 0.775\n",
            " Average Recall     (AR) @[ IoU=0.50:0.95 | area=   all | maxDets=100 ] = 0.775\n",
            " Average Recall     (AR) @[ IoU=0.50:0.95 | area= small | maxDets=100 ] = -1.000\n",
            " Average Recall     (AR) @[ IoU=0.50:0.95 | area=medium | maxDets=100 ] = -1.000\n",
            " Average Recall     (AR) @[ IoU=0.50:0.95 | area= large | maxDets=100 ] = 0.775\n",
            "Epoch: [3]  [ 0/20]  eta: 0:00:27  lr: 0.000100  loss: 1.8592 (1.8592)  loss_classifier: 0.2396 (0.2396)  loss_box_reg: 0.3152 (0.3152)  loss_mask: 1.2052 (1.2052)  loss_objectness: 0.0658 (0.0658)  loss_rpn_box_reg: 0.0332 (0.0332)  time: 1.3712  data: 0.6541  max mem: 2253\n",
            "Epoch: [3]  [10/20]  eta: 0:00:08  lr: 0.000100  loss: 0.5584 (0.7358)  loss_classifier: 0.0968 (0.1156)  loss_box_reg: 0.2754 (0.2673)  loss_mask: 0.2026 (0.3364)  loss_objectness: 0.0012 (0.0111)  loss_rpn_box_reg: 0.0022 (0.0054)  time: 0.8053  data: 0.0729  max mem: 2253\n",
            "Epoch: [3]  [19/20]  eta: 0:00:00  lr: 0.000100  loss: 0.4203 (0.5869)  loss_classifier: 0.0842 (0.0999)  loss_box_reg: 0.2015 (0.2248)  loss_mask: 0.1462 (0.2492)  loss_objectness: 0.0012 (0.0095)  loss_rpn_box_reg: 0.0018 (0.0036)  time: 0.7779  data: 0.0466  max mem: 2253\n",
            "Epoch: [3] Total time: 0:00:15 (0.7818 s / it)\n",
            "creating index...\n",
            "index created!\n",
            "Test:  [0/4]  eta: 0:00:05  model_time: 0.6337 (0.6337)  evaluator_time: 0.1737 (0.1737)  time: 1.4453  data: 0.6249  max mem: 2253\n",
            "Test:  [3/4]  eta: 0:00:00  model_time: 0.4022 (0.4443)  evaluator_time: 0.1511 (0.1546)  time: 0.7781  data: 0.1659  max mem: 2253\n",
            "Test: Total time: 0:00:03 (0.7995 s / it)\n",
            "Averaged stats: model_time: 0.4022 (0.4443)  evaluator_time: 0.1511 (0.1546)\n",
            "Accumulating evaluation results...\n",
            "DONE (t=0.01s).\n",
            "Accumulating evaluation results...\n",
            "DONE (t=0.01s).\n",
            "IoU metric: bbox\n",
            " Average Precision  (AP) @[ IoU=0.50:0.95 | area=   all | maxDets=100 ] = 0.757\n",
            " Average Precision  (AP) @[ IoU=0.50      | area=   all | maxDets=100 ] = 1.000\n",
            " Average Precision  (AP) @[ IoU=0.75      | area=   all | maxDets=100 ] = 0.860\n",
            " Average Precision  (AP) @[ IoU=0.50:0.95 | area= small | maxDets=100 ] = -1.000\n",
            " Average Precision  (AP) @[ IoU=0.50:0.95 | area=medium | maxDets=100 ] = -1.000\n",
            " Average Precision  (AP) @[ IoU=0.50:0.95 | area= large | maxDets=100 ] = 0.757\n",
            " Average Recall     (AR) @[ IoU=0.50:0.95 | area=   all | maxDets=  1 ] = 0.200\n",
            " Average Recall     (AR) @[ IoU=0.50:0.95 | area=   all | maxDets= 10 ] = 0.775\n",
            " Average Recall     (AR) @[ IoU=0.50:0.95 | area=   all | maxDets=100 ] = 0.775\n",
            " Average Recall     (AR) @[ IoU=0.50:0.95 | area= small | maxDets=100 ] = -1.000\n",
            " Average Recall     (AR) @[ IoU=0.50:0.95 | area=medium | maxDets=100 ] = -1.000\n",
            " Average Recall     (AR) @[ IoU=0.50:0.95 | area= large | maxDets=100 ] = 0.775\n",
            "IoU metric: segm\n",
            " Average Precision  (AP) @[ IoU=0.50:0.95 | area=   all | maxDets=100 ] = 0.765\n",
            " Average Precision  (AP) @[ IoU=0.50      | area=   all | maxDets=100 ] = 1.000\n",
            " Average Precision  (AP) @[ IoU=0.75      | area=   all | maxDets=100 ] = 1.000\n",
            " Average Precision  (AP) @[ IoU=0.50:0.95 | area= small | maxDets=100 ] = -1.000\n",
            " Average Precision  (AP) @[ IoU=0.50:0.95 | area=medium | maxDets=100 ] = -1.000\n",
            " Average Precision  (AP) @[ IoU=0.50:0.95 | area= large | maxDets=100 ] = 0.765\n",
            " Average Recall     (AR) @[ IoU=0.50:0.95 | area=   all | maxDets=  1 ] = 0.212\n",
            " Average Recall     (AR) @[ IoU=0.50:0.95 | area=   all | maxDets= 10 ] = 0.775\n",
            " Average Recall     (AR) @[ IoU=0.50:0.95 | area=   all | maxDets=100 ] = 0.775\n",
            " Average Recall     (AR) @[ IoU=0.50:0.95 | area= small | maxDets=100 ] = -1.000\n",
            " Average Recall     (AR) @[ IoU=0.50:0.95 | area=medium | maxDets=100 ] = -1.000\n",
            " Average Recall     (AR) @[ IoU=0.50:0.95 | area= large | maxDets=100 ] = 0.775\n",
            "Epoch: [4]  [ 0/20]  eta: 0:00:27  lr: 0.000100  loss: 0.4686 (0.4686)  loss_classifier: 0.0904 (0.0904)  loss_box_reg: 0.1963 (0.1963)  loss_mask: 0.1784 (0.1784)  loss_objectness: 0.0013 (0.0013)  loss_rpn_box_reg: 0.0021 (0.0021)  time: 1.3753  data: 0.6478  max mem: 2253\n",
            "Epoch: [4]  [10/20]  eta: 0:00:07  lr: 0.000100  loss: 0.3349 (0.5132)  loss_classifier: 0.0801 (0.0954)  loss_box_reg: 0.1330 (0.1773)  loss_mask: 0.1381 (0.2359)  loss_objectness: 0.0009 (0.0016)  loss_rpn_box_reg: 0.0014 (0.0030)  time: 0.7997  data: 0.0747  max mem: 2253\n",
            "Epoch: [4]  [19/20]  eta: 0:00:00  lr: 0.000100  loss: 0.3738 (0.5167)  loss_classifier: 0.0810 (0.0969)  loss_box_reg: 0.1521 (0.1843)  loss_mask: 0.1381 (0.2303)  loss_objectness: 0.0012 (0.0028)  loss_rpn_box_reg: 0.0013 (0.0024)  time: 0.7731  data: 0.0469  max mem: 2253\n",
            "Epoch: [4] Total time: 0:00:15 (0.7772 s / it)\n",
            "creating index...\n",
            "index created!\n",
            "Test:  [0/4]  eta: 0:00:05  model_time: 0.6304 (0.6304)  evaluator_time: 0.1467 (0.1467)  time: 1.4307  data: 0.6259  max mem: 2253\n",
            "Test:  [3/4]  eta: 0:00:00  model_time: 0.3883 (0.4448)  evaluator_time: 0.1384 (0.1366)  time: 0.7644  data: 0.1655  max mem: 2253\n",
            "Test: Total time: 0:00:03 (0.7851 s / it)\n",
            "Averaged stats: model_time: 0.3883 (0.4448)  evaluator_time: 0.1384 (0.1366)\n",
            "Accumulating evaluation results...\n",
            "DONE (t=0.01s).\n",
            "Accumulating evaluation results...\n",
            "DONE (t=0.01s).\n",
            "IoU metric: bbox\n",
            " Average Precision  (AP) @[ IoU=0.50:0.95 | area=   all | maxDets=100 ] = 0.778\n",
            " Average Precision  (AP) @[ IoU=0.50      | area=   all | maxDets=100 ] = 1.000\n",
            " Average Precision  (AP) @[ IoU=0.75      | area=   all | maxDets=100 ] = 0.920\n",
            " Average Precision  (AP) @[ IoU=0.50:0.95 | area= small | maxDets=100 ] = -1.000\n",
            " Average Precision  (AP) @[ IoU=0.50:0.95 | area=medium | maxDets=100 ] = -1.000\n",
            " Average Precision  (AP) @[ IoU=0.50:0.95 | area= large | maxDets=100 ] = 0.778\n",
            " Average Recall     (AR) @[ IoU=0.50:0.95 | area=   all | maxDets=  1 ] = 0.219\n",
            " Average Recall     (AR) @[ IoU=0.50:0.95 | area=   all | maxDets= 10 ] = 0.787\n",
            " Average Recall     (AR) @[ IoU=0.50:0.95 | area=   all | maxDets=100 ] = 0.787\n",
            " Average Recall     (AR) @[ IoU=0.50:0.95 | area= small | maxDets=100 ] = -1.000\n",
            " Average Recall     (AR) @[ IoU=0.50:0.95 | area=medium | maxDets=100 ] = -1.000\n",
            " Average Recall     (AR) @[ IoU=0.50:0.95 | area= large | maxDets=100 ] = 0.787\n",
            "IoU metric: segm\n",
            " Average Precision  (AP) @[ IoU=0.50:0.95 | area=   all | maxDets=100 ] = 0.772\n",
            " Average Precision  (AP) @[ IoU=0.50      | area=   all | maxDets=100 ] = 1.000\n",
            " Average Precision  (AP) @[ IoU=0.75      | area=   all | maxDets=100 ] = 1.000\n",
            " Average Precision  (AP) @[ IoU=0.50:0.95 | area= small | maxDets=100 ] = -1.000\n",
            " Average Precision  (AP) @[ IoU=0.50:0.95 | area=medium | maxDets=100 ] = -1.000\n",
            " Average Precision  (AP) @[ IoU=0.50:0.95 | area= large | maxDets=100 ] = 0.772\n",
            " Average Recall     (AR) @[ IoU=0.50:0.95 | area=   all | maxDets=  1 ] = 0.212\n",
            " Average Recall     (AR) @[ IoU=0.50:0.95 | area=   all | maxDets= 10 ] = 0.800\n",
            " Average Recall     (AR) @[ IoU=0.50:0.95 | area=   all | maxDets=100 ] = 0.806\n",
            " Average Recall     (AR) @[ IoU=0.50:0.95 | area= small | maxDets=100 ] = -1.000\n",
            " Average Recall     (AR) @[ IoU=0.50:0.95 | area=medium | maxDets=100 ] = -1.000\n",
            " Average Recall     (AR) @[ IoU=0.50:0.95 | area= large | maxDets=100 ] = 0.806\n",
            "Epoch: [5]  [ 0/20]  eta: 0:00:28  lr: 0.000100  loss: 1.5597 (1.5597)  loss_classifier: 0.1605 (0.1605)  loss_box_reg: 0.5464 (0.5464)  loss_mask: 0.8393 (0.8393)  loss_objectness: 0.0072 (0.0072)  loss_rpn_box_reg: 0.0062 (0.0062)  time: 1.4129  data: 0.6620  max mem: 2253\n",
            "Epoch: [5]  [10/20]  eta: 0:00:08  lr: 0.000100  loss: 0.4104 (0.6138)  loss_classifier: 0.0804 (0.1052)  loss_box_reg: 0.1631 (0.2058)  loss_mask: 0.1659 (0.2913)  loss_objectness: 0.0012 (0.0076)  loss_rpn_box_reg: 0.0014 (0.0040)  time: 0.8027  data: 0.0755  max mem: 2253\n",
            "Epoch: [5]  [19/20]  eta: 0:00:00  lr: 0.000100  loss: 0.3374 (0.5012)  loss_classifier: 0.0777 (0.0919)  loss_box_reg: 0.1376 (0.1693)  loss_mask: 0.1447 (0.2324)  loss_objectness: 0.0011 (0.0049)  loss_rpn_box_reg: 0.0013 (0.0027)  time: 0.7717  data: 0.0478  max mem: 2253\n",
            "Epoch: [5] Total time: 0:00:15 (0.7756 s / it)\n",
            "creating index...\n",
            "index created!\n",
            "Test:  [0/4]  eta: 0:00:05  model_time: 0.5384 (0.5384)  evaluator_time: 0.1500 (0.1500)  time: 1.3389  data: 0.6242  max mem: 2253\n",
            "Test:  [3/4]  eta: 0:00:00  model_time: 0.3709 (0.4120)  evaluator_time: 0.1186 (0.1323)  time: 0.7251  data: 0.1642  max mem: 2253\n",
            "Test: Total time: 0:00:02 (0.7456 s / it)\n",
            "Averaged stats: model_time: 0.3709 (0.4120)  evaluator_time: 0.1186 (0.1323)\n",
            "Accumulating evaluation results...\n",
            "DONE (t=0.01s).\n",
            "Accumulating evaluation results...\n",
            "DONE (t=0.01s).\n",
            "IoU metric: bbox\n",
            " Average Precision  (AP) @[ IoU=0.50:0.95 | area=   all | maxDets=100 ] = 0.812\n",
            " Average Precision  (AP) @[ IoU=0.50      | area=   all | maxDets=100 ] = 1.000\n",
            " Average Precision  (AP) @[ IoU=0.75      | area=   all | maxDets=100 ] = 0.923\n",
            " Average Precision  (AP) @[ IoU=0.50:0.95 | area= small | maxDets=100 ] = -1.000\n",
            " Average Precision  (AP) @[ IoU=0.50:0.95 | area=medium | maxDets=100 ] = -1.000\n",
            " Average Precision  (AP) @[ IoU=0.50:0.95 | area= large | maxDets=100 ] = 0.812\n",
            " Average Recall     (AR) @[ IoU=0.50:0.95 | area=   all | maxDets=  1 ] = 0.225\n",
            " Average Recall     (AR) @[ IoU=0.50:0.95 | area=   all | maxDets= 10 ] = 0.825\n",
            " Average Recall     (AR) @[ IoU=0.50:0.95 | area=   all | maxDets=100 ] = 0.825\n",
            " Average Recall     (AR) @[ IoU=0.50:0.95 | area= small | maxDets=100 ] = -1.000\n",
            " Average Recall     (AR) @[ IoU=0.50:0.95 | area=medium | maxDets=100 ] = -1.000\n",
            " Average Recall     (AR) @[ IoU=0.50:0.95 | area= large | maxDets=100 ] = 0.825\n",
            "IoU metric: segm\n",
            " Average Precision  (AP) @[ IoU=0.50:0.95 | area=   all | maxDets=100 ] = 0.770\n",
            " Average Precision  (AP) @[ IoU=0.50      | area=   all | maxDets=100 ] = 1.000\n",
            " Average Precision  (AP) @[ IoU=0.75      | area=   all | maxDets=100 ] = 1.000\n",
            " Average Precision  (AP) @[ IoU=0.50:0.95 | area= small | maxDets=100 ] = -1.000\n",
            " Average Precision  (AP) @[ IoU=0.50:0.95 | area=medium | maxDets=100 ] = -1.000\n",
            " Average Precision  (AP) @[ IoU=0.50:0.95 | area= large | maxDets=100 ] = 0.770\n",
            " Average Recall     (AR) @[ IoU=0.50:0.95 | area=   all | maxDets=  1 ] = 0.212\n",
            " Average Recall     (AR) @[ IoU=0.50:0.95 | area=   all | maxDets= 10 ] = 0.806\n",
            " Average Recall     (AR) @[ IoU=0.50:0.95 | area=   all | maxDets=100 ] = 0.806\n",
            " Average Recall     (AR) @[ IoU=0.50:0.95 | area= small | maxDets=100 ] = -1.000\n",
            " Average Recall     (AR) @[ IoU=0.50:0.95 | area=medium | maxDets=100 ] = -1.000\n",
            " Average Recall     (AR) @[ IoU=0.50:0.95 | area= large | maxDets=100 ] = 0.806\n",
            "Epoch: [6]  [ 0/20]  eta: 0:00:28  lr: 0.000010  loss: 0.4728 (0.4728)  loss_classifier: 0.0892 (0.0892)  loss_box_reg: 0.1873 (0.1873)  loss_mask: 0.1947 (0.1947)  loss_objectness: 0.0002 (0.0002)  loss_rpn_box_reg: 0.0014 (0.0014)  time: 1.4043  data: 0.6706  max mem: 2253\n",
            "Epoch: [6]  [10/20]  eta: 0:00:07  lr: 0.000010  loss: 0.4357 (0.5857)  loss_classifier: 0.0851 (0.0972)  loss_box_reg: 0.1480 (0.1949)  loss_mask: 0.1915 (0.2810)  loss_objectness: 0.0024 (0.0097)  loss_rpn_box_reg: 0.0012 (0.0028)  time: 0.7995  data: 0.0758  max mem: 2253\n",
            "Epoch: [6]  [19/20]  eta: 0:00:00  lr: 0.000010  loss: 0.3226 (0.4751)  loss_classifier: 0.0727 (0.0844)  loss_box_reg: 0.1212 (0.1596)  loss_mask: 0.1399 (0.2214)  loss_objectness: 0.0016 (0.0075)  loss_rpn_box_reg: 0.0012 (0.0020)  time: 0.7715  data: 0.0471  max mem: 2253\n",
            "Epoch: [6] Total time: 0:00:15 (0.7754 s / it)\n",
            "creating index...\n",
            "index created!\n",
            "Test:  [0/4]  eta: 0:00:05  model_time: 0.6160 (0.6160)  evaluator_time: 0.1483 (0.1483)  time: 1.4173  data: 0.6311  max mem: 2253\n",
            "Test:  [3/4]  eta: 0:00:00  model_time: 0.3568 (0.4301)  evaluator_time: 0.1074 (0.1332)  time: 0.7446  data: 0.1659  max mem: 2253\n",
            "Test: Total time: 0:00:03 (0.7642 s / it)\n",
            "Averaged stats: model_time: 0.3568 (0.4301)  evaluator_time: 0.1074 (0.1332)\n",
            "Accumulating evaluation results...\n",
            "DONE (t=0.01s).\n",
            "Accumulating evaluation results...\n",
            "DONE (t=0.01s).\n",
            "IoU metric: bbox\n",
            " Average Precision  (AP) @[ IoU=0.50:0.95 | area=   all | maxDets=100 ] = 0.816\n",
            " Average Precision  (AP) @[ IoU=0.50      | area=   all | maxDets=100 ] = 1.000\n",
            " Average Precision  (AP) @[ IoU=0.75      | area=   all | maxDets=100 ] = 1.000\n",
            " Average Precision  (AP) @[ IoU=0.50:0.95 | area= small | maxDets=100 ] = -1.000\n",
            " Average Precision  (AP) @[ IoU=0.50:0.95 | area=medium | maxDets=100 ] = -1.000\n",
            " Average Precision  (AP) @[ IoU=0.50:0.95 | area= large | maxDets=100 ] = 0.816\n",
            " Average Recall     (AR) @[ IoU=0.50:0.95 | area=   all | maxDets=  1 ] = 0.225\n",
            " Average Recall     (AR) @[ IoU=0.50:0.95 | area=   all | maxDets= 10 ] = 0.825\n",
            " Average Recall     (AR) @[ IoU=0.50:0.95 | area=   all | maxDets=100 ] = 0.825\n",
            " Average Recall     (AR) @[ IoU=0.50:0.95 | area= small | maxDets=100 ] = -1.000\n",
            " Average Recall     (AR) @[ IoU=0.50:0.95 | area=medium | maxDets=100 ] = -1.000\n",
            " Average Recall     (AR) @[ IoU=0.50:0.95 | area= large | maxDets=100 ] = 0.825\n",
            "IoU metric: segm\n",
            " Average Precision  (AP) @[ IoU=0.50:0.95 | area=   all | maxDets=100 ] = 0.769\n",
            " Average Precision  (AP) @[ IoU=0.50      | area=   all | maxDets=100 ] = 1.000\n",
            " Average Precision  (AP) @[ IoU=0.75      | area=   all | maxDets=100 ] = 1.000\n",
            " Average Precision  (AP) @[ IoU=0.50:0.95 | area= small | maxDets=100 ] = -1.000\n",
            " Average Precision  (AP) @[ IoU=0.50:0.95 | area=medium | maxDets=100 ] = -1.000\n",
            " Average Precision  (AP) @[ IoU=0.50:0.95 | area= large | maxDets=100 ] = 0.769\n",
            " Average Recall     (AR) @[ IoU=0.50:0.95 | area=   all | maxDets=  1 ] = 0.212\n",
            " Average Recall     (AR) @[ IoU=0.50:0.95 | area=   all | maxDets= 10 ] = 0.806\n",
            " Average Recall     (AR) @[ IoU=0.50:0.95 | area=   all | maxDets=100 ] = 0.806\n",
            " Average Recall     (AR) @[ IoU=0.50:0.95 | area= small | maxDets=100 ] = -1.000\n",
            " Average Recall     (AR) @[ IoU=0.50:0.95 | area=medium | maxDets=100 ] = -1.000\n",
            " Average Recall     (AR) @[ IoU=0.50:0.95 | area= large | maxDets=100 ] = 0.806\n",
            "Epoch: [7]  [ 0/20]  eta: 0:00:28  lr: 0.000010  loss: 0.4311 (0.4311)  loss_classifier: 0.0958 (0.0958)  loss_box_reg: 0.1465 (0.1465)  loss_mask: 0.1820 (0.1820)  loss_objectness: 0.0059 (0.0059)  loss_rpn_box_reg: 0.0010 (0.0010)  time: 1.4431  data: 0.6806  max mem: 2253\n",
            "Epoch: [7]  [10/20]  eta: 0:00:08  lr: 0.000010  loss: 0.4311 (0.4757)  loss_classifier: 0.0786 (0.0886)  loss_box_reg: 0.1450 (0.1685)  loss_mask: 0.1753 (0.2140)  loss_objectness: 0.0012 (0.0030)  loss_rpn_box_reg: 0.0013 (0.0016)  time: 0.8073  data: 0.0745  max mem: 2253\n",
            "Epoch: [7]  [19/20]  eta: 0:00:00  lr: 0.000010  loss: 0.3147 (0.4730)  loss_classifier: 0.0678 (0.0872)  loss_box_reg: 0.1170 (0.1571)  loss_mask: 0.1404 (0.2203)  loss_objectness: 0.0013 (0.0063)  loss_rpn_box_reg: 0.0011 (0.0021)  time: 0.7735  data: 0.0468  max mem: 2253\n",
            "Epoch: [7] Total time: 0:00:15 (0.7776 s / it)\n",
            "creating index...\n",
            "index created!\n",
            "Test:  [0/4]  eta: 0:00:05  model_time: 0.5872 (0.5872)  evaluator_time: 0.1466 (0.1466)  time: 1.3702  data: 0.6260  max mem: 2253\n",
            "Test:  [3/4]  eta: 0:00:00  model_time: 0.3881 (0.4253)  evaluator_time: 0.1107 (0.1337)  time: 0.7377  data: 0.1648  max mem: 2253\n",
            "Test: Total time: 0:00:03 (0.7613 s / it)\n",
            "Averaged stats: model_time: 0.3881 (0.4253)  evaluator_time: 0.1107 (0.1337)\n",
            "Accumulating evaluation results...\n",
            "DONE (t=0.01s).\n",
            "Accumulating evaluation results...\n",
            "DONE (t=0.01s).\n",
            "IoU metric: bbox\n",
            " Average Precision  (AP) @[ IoU=0.50:0.95 | area=   all | maxDets=100 ] = 0.818\n",
            " Average Precision  (AP) @[ IoU=0.50      | area=   all | maxDets=100 ] = 1.000\n",
            " Average Precision  (AP) @[ IoU=0.75      | area=   all | maxDets=100 ] = 1.000\n",
            " Average Precision  (AP) @[ IoU=0.50:0.95 | area= small | maxDets=100 ] = -1.000\n",
            " Average Precision  (AP) @[ IoU=0.50:0.95 | area=medium | maxDets=100 ] = -1.000\n",
            " Average Precision  (AP) @[ IoU=0.50:0.95 | area= large | maxDets=100 ] = 0.818\n",
            " Average Recall     (AR) @[ IoU=0.50:0.95 | area=   all | maxDets=  1 ] = 0.231\n",
            " Average Recall     (AR) @[ IoU=0.50:0.95 | area=   all | maxDets= 10 ] = 0.831\n",
            " Average Recall     (AR) @[ IoU=0.50:0.95 | area=   all | maxDets=100 ] = 0.831\n",
            " Average Recall     (AR) @[ IoU=0.50:0.95 | area= small | maxDets=100 ] = -1.000\n",
            " Average Recall     (AR) @[ IoU=0.50:0.95 | area=medium | maxDets=100 ] = -1.000\n",
            " Average Recall     (AR) @[ IoU=0.50:0.95 | area= large | maxDets=100 ] = 0.831\n",
            "IoU metric: segm\n",
            " Average Precision  (AP) @[ IoU=0.50:0.95 | area=   all | maxDets=100 ] = 0.772\n",
            " Average Precision  (AP) @[ IoU=0.50      | area=   all | maxDets=100 ] = 1.000\n",
            " Average Precision  (AP) @[ IoU=0.75      | area=   all | maxDets=100 ] = 1.000\n",
            " Average Precision  (AP) @[ IoU=0.50:0.95 | area= small | maxDets=100 ] = -1.000\n",
            " Average Precision  (AP) @[ IoU=0.50:0.95 | area=medium | maxDets=100 ] = -1.000\n",
            " Average Precision  (AP) @[ IoU=0.50:0.95 | area= large | maxDets=100 ] = 0.772\n",
            " Average Recall     (AR) @[ IoU=0.50:0.95 | area=   all | maxDets=  1 ] = 0.219\n",
            " Average Recall     (AR) @[ IoU=0.50:0.95 | area=   all | maxDets= 10 ] = 0.806\n",
            " Average Recall     (AR) @[ IoU=0.50:0.95 | area=   all | maxDets=100 ] = 0.806\n",
            " Average Recall     (AR) @[ IoU=0.50:0.95 | area= small | maxDets=100 ] = -1.000\n",
            " Average Recall     (AR) @[ IoU=0.50:0.95 | area=medium | maxDets=100 ] = -1.000\n",
            " Average Recall     (AR) @[ IoU=0.50:0.95 | area= large | maxDets=100 ] = 0.806\n",
            "Epoch: [8]  [ 0/20]  eta: 0:00:28  lr: 0.000010  loss: 0.4294 (0.4294)  loss_classifier: 0.0681 (0.0681)  loss_box_reg: 0.1657 (0.1657)  loss_mask: 0.1772 (0.1772)  loss_objectness: 0.0168 (0.0168)  loss_rpn_box_reg: 0.0016 (0.0016)  time: 1.4486  data: 0.6497  max mem: 2253\n",
            "Epoch: [8]  [10/20]  eta: 0:00:08  lr: 0.000010  loss: 0.2879 (0.5438)  loss_classifier: 0.0694 (0.0931)  loss_box_reg: 0.1026 (0.1765)  loss_mask: 0.1399 (0.2657)  loss_objectness: 0.0025 (0.0058)  loss_rpn_box_reg: 0.0014 (0.0028)  time: 0.8020  data: 0.0724  max mem: 2253\n",
            "Epoch: [8]  [19/20]  eta: 0:00:00  lr: 0.000010  loss: 0.3242 (0.4723)  loss_classifier: 0.0702 (0.0854)  loss_box_reg: 0.1234 (0.1595)  loss_mask: 0.1399 (0.2199)  loss_objectness: 0.0010 (0.0054)  loss_rpn_box_reg: 0.0012 (0.0021)  time: 0.7741  data: 0.0458  max mem: 2253\n",
            "Epoch: [8] Total time: 0:00:15 (0.7783 s / it)\n",
            "creating index...\n",
            "index created!\n",
            "Test:  [0/4]  eta: 0:00:05  model_time: 0.6457 (0.6457)  evaluator_time: 0.1469 (0.1469)  time: 1.4611  data: 0.6515  max mem: 2253\n",
            "Test:  [3/4]  eta: 0:00:00  model_time: 0.3515 (0.4320)  evaluator_time: 0.1120 (0.1253)  time: 0.7420  data: 0.1703  max mem: 2253\n",
            "Test: Total time: 0:00:03 (0.7635 s / it)\n",
            "Averaged stats: model_time: 0.3515 (0.4320)  evaluator_time: 0.1120 (0.1253)\n",
            "Accumulating evaluation results...\n",
            "DONE (t=0.01s).\n",
            "Accumulating evaluation results...\n",
            "DONE (t=0.01s).\n",
            "IoU metric: bbox\n",
            " Average Precision  (AP) @[ IoU=0.50:0.95 | area=   all | maxDets=100 ] = 0.818\n",
            " Average Precision  (AP) @[ IoU=0.50      | area=   all | maxDets=100 ] = 1.000\n",
            " Average Precision  (AP) @[ IoU=0.75      | area=   all | maxDets=100 ] = 1.000\n",
            " Average Precision  (AP) @[ IoU=0.50:0.95 | area= small | maxDets=100 ] = -1.000\n",
            " Average Precision  (AP) @[ IoU=0.50:0.95 | area=medium | maxDets=100 ] = -1.000\n",
            " Average Precision  (AP) @[ IoU=0.50:0.95 | area= large | maxDets=100 ] = 0.818\n",
            " Average Recall     (AR) @[ IoU=0.50:0.95 | area=   all | maxDets=  1 ] = 0.231\n",
            " Average Recall     (AR) @[ IoU=0.50:0.95 | area=   all | maxDets= 10 ] = 0.831\n",
            " Average Recall     (AR) @[ IoU=0.50:0.95 | area=   all | maxDets=100 ] = 0.831\n",
            " Average Recall     (AR) @[ IoU=0.50:0.95 | area= small | maxDets=100 ] = -1.000\n",
            " Average Recall     (AR) @[ IoU=0.50:0.95 | area=medium | maxDets=100 ] = -1.000\n",
            " Average Recall     (AR) @[ IoU=0.50:0.95 | area= large | maxDets=100 ] = 0.831\n",
            "IoU metric: segm\n",
            " Average Precision  (AP) @[ IoU=0.50:0.95 | area=   all | maxDets=100 ] = 0.778\n",
            " Average Precision  (AP) @[ IoU=0.50      | area=   all | maxDets=100 ] = 1.000\n",
            " Average Precision  (AP) @[ IoU=0.75      | area=   all | maxDets=100 ] = 1.000\n",
            " Average Precision  (AP) @[ IoU=0.50:0.95 | area= small | maxDets=100 ] = -1.000\n",
            " Average Precision  (AP) @[ IoU=0.50:0.95 | area=medium | maxDets=100 ] = -1.000\n",
            " Average Precision  (AP) @[ IoU=0.50:0.95 | area= large | maxDets=100 ] = 0.778\n",
            " Average Recall     (AR) @[ IoU=0.50:0.95 | area=   all | maxDets=  1 ] = 0.219\n",
            " Average Recall     (AR) @[ IoU=0.50:0.95 | area=   all | maxDets= 10 ] = 0.812\n",
            " Average Recall     (AR) @[ IoU=0.50:0.95 | area=   all | maxDets=100 ] = 0.812\n",
            " Average Recall     (AR) @[ IoU=0.50:0.95 | area= small | maxDets=100 ] = -1.000\n",
            " Average Recall     (AR) @[ IoU=0.50:0.95 | area=medium | maxDets=100 ] = -1.000\n",
            " Average Recall     (AR) @[ IoU=0.50:0.95 | area= large | maxDets=100 ] = 0.812\n",
            "Epoch: [9]  [ 0/20]  eta: 0:00:28  lr: 0.000001  loss: 0.2868 (0.2868)  loss_classifier: 0.0577 (0.0577)  loss_box_reg: 0.1062 (0.1062)  loss_mask: 0.1214 (0.1214)  loss_objectness: 0.0000 (0.0000)  loss_rpn_box_reg: 0.0015 (0.0015)  time: 1.4470  data: 0.6853  max mem: 2253\n",
            "Epoch: [9]  [10/20]  eta: 0:00:07  lr: 0.000001  loss: 0.3036 (0.5185)  loss_classifier: 0.0651 (0.0897)  loss_box_reg: 0.1061 (0.1667)  loss_mask: 0.1325 (0.2572)  loss_objectness: 0.0006 (0.0021)  loss_rpn_box_reg: 0.0011 (0.0027)  time: 0.7999  data: 0.0754  max mem: 2253\n",
            "Epoch: [9]  [19/20]  eta: 0:00:00  lr: 0.000001  loss: 0.3055 (0.4608)  loss_classifier: 0.0739 (0.0865)  loss_box_reg: 0.1062 (0.1537)  loss_mask: 0.1425 (0.2170)  loss_objectness: 0.0008 (0.0016)  loss_rpn_box_reg: 0.0011 (0.0020)  time: 0.7729  data: 0.0470  max mem: 2253\n",
            "Epoch: [9] Total time: 0:00:15 (0.7780 s / it)\n",
            "creating index...\n",
            "index created!\n",
            "Test:  [0/4]  eta: 0:00:05  model_time: 0.5950 (0.5950)  evaluator_time: 0.1525 (0.1525)  time: 1.3797  data: 0.6212  max mem: 2253\n",
            "Test:  [3/4]  eta: 0:00:00  model_time: 0.3744 (0.4181)  evaluator_time: 0.1151 (0.1306)  time: 0.7251  data: 0.1636  max mem: 2253\n",
            "Test: Total time: 0:00:02 (0.7449 s / it)\n",
            "Averaged stats: model_time: 0.3744 (0.4181)  evaluator_time: 0.1151 (0.1306)\n",
            "Accumulating evaluation results...\n",
            "DONE (t=0.01s).\n",
            "Accumulating evaluation results...\n",
            "DONE (t=0.01s).\n",
            "IoU metric: bbox\n",
            " Average Precision  (AP) @[ IoU=0.50:0.95 | area=   all | maxDets=100 ] = 0.818\n",
            " Average Precision  (AP) @[ IoU=0.50      | area=   all | maxDets=100 ] = 1.000\n",
            " Average Precision  (AP) @[ IoU=0.75      | area=   all | maxDets=100 ] = 1.000\n",
            " Average Precision  (AP) @[ IoU=0.50:0.95 | area= small | maxDets=100 ] = -1.000\n",
            " Average Precision  (AP) @[ IoU=0.50:0.95 | area=medium | maxDets=100 ] = -1.000\n",
            " Average Precision  (AP) @[ IoU=0.50:0.95 | area= large | maxDets=100 ] = 0.818\n",
            " Average Recall     (AR) @[ IoU=0.50:0.95 | area=   all | maxDets=  1 ] = 0.231\n",
            " Average Recall     (AR) @[ IoU=0.50:0.95 | area=   all | maxDets= 10 ] = 0.831\n",
            " Average Recall     (AR) @[ IoU=0.50:0.95 | area=   all | maxDets=100 ] = 0.831\n",
            " Average Recall     (AR) @[ IoU=0.50:0.95 | area= small | maxDets=100 ] = -1.000\n",
            " Average Recall     (AR) @[ IoU=0.50:0.95 | area=medium | maxDets=100 ] = -1.000\n",
            " Average Recall     (AR) @[ IoU=0.50:0.95 | area= large | maxDets=100 ] = 0.831\n",
            "IoU metric: segm\n",
            " Average Precision  (AP) @[ IoU=0.50:0.95 | area=   all | maxDets=100 ] = 0.781\n",
            " Average Precision  (AP) @[ IoU=0.50      | area=   all | maxDets=100 ] = 1.000\n",
            " Average Precision  (AP) @[ IoU=0.75      | area=   all | maxDets=100 ] = 1.000\n",
            " Average Precision  (AP) @[ IoU=0.50:0.95 | area= small | maxDets=100 ] = -1.000\n",
            " Average Precision  (AP) @[ IoU=0.50:0.95 | area=medium | maxDets=100 ] = -1.000\n",
            " Average Precision  (AP) @[ IoU=0.50:0.95 | area= large | maxDets=100 ] = 0.781\n",
            " Average Recall     (AR) @[ IoU=0.50:0.95 | area=   all | maxDets=  1 ] = 0.219\n",
            " Average Recall     (AR) @[ IoU=0.50:0.95 | area=   all | maxDets= 10 ] = 0.819\n",
            " Average Recall     (AR) @[ IoU=0.50:0.95 | area=   all | maxDets=100 ] = 0.819\n",
            " Average Recall     (AR) @[ IoU=0.50:0.95 | area= small | maxDets=100 ] = -1.000\n",
            " Average Recall     (AR) @[ IoU=0.50:0.95 | area=medium | maxDets=100 ] = -1.000\n",
            " Average Recall     (AR) @[ IoU=0.50:0.95 | area= large | maxDets=100 ] = 0.819\n"
          ]
        }
      ]
    },
    {
      "cell_type": "code",
      "metadata": {
        "id": "0c3fJk2ArkzC"
      },
      "source": [
        "# pick one image from the test set\n",
        "img, _ = dataset_test[0]\n",
        "# put the model in evaluation mode\n",
        "model.eval()\n",
        "with torch.no_grad():\n",
        "    prediction = model([img.to(device)])"
      ],
      "execution_count": 13,
      "outputs": []
    },
    {
      "cell_type": "code",
      "metadata": {
        "id": "zPxh5hHj0Akp",
        "colab": {
          "base_uri": "https://localhost:8080/",
          "height": 269
        },
        "outputId": "0f37de4a-1a37-4929-ac64-87ac7a066612"
      },
      "source": [
        "img1 = Image.fromarray(img.mul(255).permute(1, 2, 0).byte().numpy())\n",
        "\n",
        "plt.imshow(img1)\n",
        "ax = plt.gca()\n",
        "ax.grid(True, color='r', linestyle='--')\n",
        "plt.draw()\n",
        "plt.show()"
      ],
      "execution_count": null,
      "outputs": [
        {
          "output_type": "display_data",
          "data": {
            "image/png": "[encoded data removed]",
            "text/plain": [
              "<Figure size 432x288 with 1 Axes>"
            ]
          },
          "metadata": {
            "needs_background": "light"
          }
        }
      ]
    },
    {
      "cell_type": "code",
      "metadata": {
        "id": "Gt13tXtM2XB7",
        "colab": {
          "base_uri": "https://localhost:8080/",
          "height": 269
        },
        "outputId": "7c8ff8b9-a66a-48a6-e313-a6fd376a8091"
      },
      "source": [
        "pred1 = Image.fromarray(prediction[0]['masks'][0, 0].mul(255).byte().cpu().numpy())\n",
        "\n",
        "plt.imshow(pred1)\n",
        "ax = plt.gca()\n",
        "ax.grid(True, color='w', linestyle='--')\n",
        "plt.draw()\n",
        "plt.show()"
      ],
      "execution_count": null,
      "outputs": [
        {
          "output_type": "display_data",
          "data": {
            "image/png": "[encoded data removed]",
            "text/plain": [
              "<Figure size 432x288 with 1 Axes>"
            ]
          },
          "metadata": {
            "needs_background": "light"
          }
        }
      ]
    },
    {
      "cell_type": "code",
      "metadata": {
        "id": "zchsuEsx2dXB",
        "colab": {
          "base_uri": "https://localhost:8080/",
          "height": 269
        },
        "outputId": "d832254b-d95e-4d93-98af-6aeeb7e68823"
      },
      "source": [
        "pred1 = Image.fromarray(prediction[0]['masks'][1, 0].mul(255).byte().cpu().numpy())\n",
        "\n",
        "plt.imshow(pred1)\n",
        "ax = plt.gca()\n",
        "ax.grid(True, color='w', linestyle='--')\n",
        "plt.draw()\n",
        "plt.show()"
      ],
      "execution_count": null,
      "outputs": [
        {
          "output_type": "display_data",
          "data": {
            "image/png": "[encoded data removed]",
            "text/plain": [
              "<Figure size 432x288 with 1 Axes>"
            ]
          },
          "metadata": {
            "tags": [],
            "needs_background": "light"
          }
        }
      ]
    },
    {
      "cell_type": "code",
      "metadata": {
        "id": "52RAVvnG2h1F",
        "colab": {
          "base_uri": "https://localhost:8080/",
          "height": 269
        },
        "outputId": "4d4807db-5aa4-4190-de97-c408129195ea"
      },
      "source": [
        "pred1 = Image.fromarray(prediction[0]['masks'][2, 0].mul(255).byte().cpu().numpy())\n",
        "\n",
        "plt.imshow(pred1)\n",
        "ax = plt.gca()\n",
        "ax.grid(True, color='w', linestyle='--')\n",
        "plt.draw()\n",
        "plt.show()"
      ],
      "execution_count": null,
      "outputs": [
        {
          "output_type": "display_data",
          "data": {
            "image/png": "[encoded data removed]",
            "text/plain": [
              "<Figure size 432x288 with 1 Axes>"
            ]
          },
          "metadata": {
            "tags": [],
            "needs_background": "light"
          }
        }
      ]
    },
    {
      "cell_type": "code",
      "metadata": {
        "id": "IpfhYZ-q2qIN",
        "colab": {
          "base_uri": "https://localhost:8080/",
          "height": 269
        },
        "outputId": "4e5c09b8-b866-46e5-e123-fce90abbe786"
      },
      "source": [
        "pred1 = Image.fromarray(prediction[0]['masks'][3, 0].mul(255).byte().cpu().numpy())\n",
        "\n",
        "plt.imshow(pred1)\n",
        "ax = plt.gca()\n",
        "ax.grid(True, color='w', linestyle='--')\n",
        "plt.draw()\n",
        "plt.show()"
      ],
      "execution_count": null,
      "outputs": [
        {
          "output_type": "display_data",
          "data": {
            "image/png": "[encoded data removed]",
            "text/plain": [
              "<Figure size 432x288 with 1 Axes>"
            ]
          },
          "metadata": {
            "tags": [],
            "needs_background": "light"
          }
        }
      ]
    }
  ]
}